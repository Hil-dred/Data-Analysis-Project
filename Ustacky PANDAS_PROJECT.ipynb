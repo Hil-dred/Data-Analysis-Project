{
 "cells": [
  {
   "cell_type": "markdown",
   "id": "physical-cooler",
   "metadata": {},
   "source": [
    "### Import Libraries and Module"
   ]
  },
  {
   "cell_type": "code",
   "execution_count": 1,
   "id": "better-diana",
   "metadata": {},
   "outputs": [],
   "source": [
    "import glob\n",
    "import numpy as np\n",
    "import pandas as pd\n",
    "import datetime as dt\n",
    "import matplotlib.pyplot as plt\n",
    "import seaborn as sb"
   ]
  },
  {
   "cell_type": "markdown",
   "id": "rotary-reality",
   "metadata": {},
   "source": [
    "### Combine Lagos, Abuja and Port-harcourt Datasets and write to csv file"
   ]
  },
  {
   "cell_type": "code",
   "execution_count": 2,
   "id": "grave-clearance",
   "metadata": {},
   "outputs": [],
   "source": [
    "directory = r\"/home/hildred/Desktop/Ustacky_PROJECTS/Data-Analysis-Project\"\n",
    "files = glob.glob(directory + \"/*.csv\")"
   ]
  },
  {
   "cell_type": "code",
   "execution_count": 3,
   "id": "inner-burning",
   "metadata": {},
   "outputs": [],
   "source": [
    "file_list = []\n",
    "for file in files:\n",
    "    read_file = pd.read_csv(file, index_col=None, header=0)\n",
    "    file_list.append(read_file)"
   ]
  },
  {
   "cell_type": "code",
   "execution_count": 4,
   "id": "theoretical-gregory",
   "metadata": {},
   "outputs": [],
   "source": [
    "data = pd.concat(file_list, axis=0, ignore_index=True)"
   ]
  },
  {
   "cell_type": "code",
   "execution_count": 5,
   "id": "maritime-platinum",
   "metadata": {},
   "outputs": [],
   "source": [
    "s_data = data.sort_values(by = ['Branch']).reset_index(drop=True)"
   ]
  },
  {
   "cell_type": "code",
   "execution_count": 6,
   "id": "adaptive-functionality",
   "metadata": {},
   "outputs": [],
   "source": [
    "s_data.to_csv('supermarket_data.csv')"
   ]
  },
  {
   "cell_type": "markdown",
   "id": "numeric-gamma",
   "metadata": {},
   "source": [
    "### Data Exploration"
   ]
  },
  {
   "cell_type": "code",
   "execution_count": 7,
   "id": "electric-burke",
   "metadata": {},
   "outputs": [
    {
     "data": {
      "text/html": [
       "<div>\n",
       "<style scoped>\n",
       "    .dataframe tbody tr th:only-of-type {\n",
       "        vertical-align: middle;\n",
       "    }\n",
       "\n",
       "    .dataframe tbody tr th {\n",
       "        vertical-align: top;\n",
       "    }\n",
       "\n",
       "    .dataframe thead th {\n",
       "        text-align: right;\n",
       "    }\n",
       "</style>\n",
       "<table border=\"1\" class=\"dataframe\">\n",
       "  <thead>\n",
       "    <tr style=\"text-align: right;\">\n",
       "      <th></th>\n",
       "      <th>Unnamed: 0</th>\n",
       "      <th>Invoice ID</th>\n",
       "      <th>Branch</th>\n",
       "      <th>City</th>\n",
       "      <th>Customer type</th>\n",
       "      <th>Gender</th>\n",
       "      <th>Product line</th>\n",
       "      <th>Unit price</th>\n",
       "      <th>Quantity</th>\n",
       "      <th>Tax 5%</th>\n",
       "      <th>Total</th>\n",
       "      <th>Date</th>\n",
       "      <th>Time</th>\n",
       "      <th>Payment</th>\n",
       "      <th>cogs</th>\n",
       "      <th>gross margin percentage</th>\n",
       "      <th>gross income</th>\n",
       "      <th>Rating</th>\n",
       "    </tr>\n",
       "  </thead>\n",
       "  <tbody>\n",
       "    <tr>\n",
       "      <th>0</th>\n",
       "      <td>0.0</td>\n",
       "      <td>750-67-8428</td>\n",
       "      <td>A</td>\n",
       "      <td>Lagos</td>\n",
       "      <td>Member</td>\n",
       "      <td>Female</td>\n",
       "      <td>Health and beauty</td>\n",
       "      <td>26888.4</td>\n",
       "      <td>7</td>\n",
       "      <td>9410.94</td>\n",
       "      <td>197629.74</td>\n",
       "      <td>1/5/2019</td>\n",
       "      <td>13:08</td>\n",
       "      <td>Epay</td>\n",
       "      <td>188218.8</td>\n",
       "      <td>4.761905</td>\n",
       "      <td>9410.94</td>\n",
       "      <td>9.1</td>\n",
       "    </tr>\n",
       "    <tr>\n",
       "      <th>1</th>\n",
       "      <td>NaN</td>\n",
       "      <td>689-05-1884</td>\n",
       "      <td>A</td>\n",
       "      <td>Lagos</td>\n",
       "      <td>Member</td>\n",
       "      <td>Male</td>\n",
       "      <td>Health and beauty</td>\n",
       "      <td>17506.8</td>\n",
       "      <td>10</td>\n",
       "      <td>8753.40</td>\n",
       "      <td>183821.40</td>\n",
       "      <td>3/4/2019</td>\n",
       "      <td>12:44</td>\n",
       "      <td>Cash</td>\n",
       "      <td>175068.0</td>\n",
       "      <td>4.761905</td>\n",
       "      <td>8753.40</td>\n",
       "      <td>8.8</td>\n",
       "    </tr>\n",
       "    <tr>\n",
       "      <th>2</th>\n",
       "      <td>NaN</td>\n",
       "      <td>305-03-2383</td>\n",
       "      <td>A</td>\n",
       "      <td>Lagos</td>\n",
       "      <td>Normal</td>\n",
       "      <td>Female</td>\n",
       "      <td>Food and beverages</td>\n",
       "      <td>24156.0</td>\n",
       "      <td>3</td>\n",
       "      <td>3623.40</td>\n",
       "      <td>76091.40</td>\n",
       "      <td>2/15/2019</td>\n",
       "      <td>10:36</td>\n",
       "      <td>Cash</td>\n",
       "      <td>72468.0</td>\n",
       "      <td>4.761905</td>\n",
       "      <td>3623.40</td>\n",
       "      <td>7.5</td>\n",
       "    </tr>\n",
       "    <tr>\n",
       "      <th>3</th>\n",
       "      <td>NaN</td>\n",
       "      <td>648-83-1321</td>\n",
       "      <td>A</td>\n",
       "      <td>Lagos</td>\n",
       "      <td>Member</td>\n",
       "      <td>Male</td>\n",
       "      <td>Home and lifestyle</td>\n",
       "      <td>22881.6</td>\n",
       "      <td>10</td>\n",
       "      <td>11440.80</td>\n",
       "      <td>240256.80</td>\n",
       "      <td>1/16/2019</td>\n",
       "      <td>17:59</td>\n",
       "      <td>Cash</td>\n",
       "      <td>228816.0</td>\n",
       "      <td>4.761905</td>\n",
       "      <td>11440.80</td>\n",
       "      <td>4.3</td>\n",
       "    </tr>\n",
       "    <tr>\n",
       "      <th>4</th>\n",
       "      <td>NaN</td>\n",
       "      <td>105-10-6182</td>\n",
       "      <td>A</td>\n",
       "      <td>Lagos</td>\n",
       "      <td>Member</td>\n",
       "      <td>Male</td>\n",
       "      <td>Fashion accessories</td>\n",
       "      <td>7732.8</td>\n",
       "      <td>2</td>\n",
       "      <td>773.28</td>\n",
       "      <td>16238.88</td>\n",
       "      <td>2/27/2019</td>\n",
       "      <td>12:22</td>\n",
       "      <td>Epay</td>\n",
       "      <td>15465.6</td>\n",
       "      <td>4.761905</td>\n",
       "      <td>773.28</td>\n",
       "      <td>6.6</td>\n",
       "    </tr>\n",
       "  </tbody>\n",
       "</table>\n",
       "</div>"
      ],
      "text/plain": [
       "   Unnamed: 0   Invoice ID Branch   City Customer type  Gender  \\\n",
       "0         0.0  750-67-8428      A  Lagos        Member  Female   \n",
       "1         NaN  689-05-1884      A  Lagos        Member    Male   \n",
       "2         NaN  305-03-2383      A  Lagos        Normal  Female   \n",
       "3         NaN  648-83-1321      A  Lagos        Member    Male   \n",
       "4         NaN  105-10-6182      A  Lagos        Member    Male   \n",
       "\n",
       "          Product line  Unit price  Quantity    Tax 5%      Total       Date  \\\n",
       "0    Health and beauty     26888.4         7   9410.94  197629.74   1/5/2019   \n",
       "1    Health and beauty     17506.8        10   8753.40  183821.40   3/4/2019   \n",
       "2   Food and beverages     24156.0         3   3623.40   76091.40  2/15/2019   \n",
       "3   Home and lifestyle     22881.6        10  11440.80  240256.80  1/16/2019   \n",
       "4  Fashion accessories      7732.8         2    773.28   16238.88  2/27/2019   \n",
       "\n",
       "    Time Payment      cogs  gross margin percentage  gross income  Rating  \n",
       "0  13:08    Epay  188218.8                 4.761905       9410.94     9.1  \n",
       "1  12:44    Cash  175068.0                 4.761905       8753.40     8.8  \n",
       "2  10:36    Cash   72468.0                 4.761905       3623.40     7.5  \n",
       "3  17:59    Cash  228816.0                 4.761905      11440.80     4.3  \n",
       "4  12:22    Epay   15465.6                 4.761905        773.28     6.6  "
      ]
     },
     "execution_count": 7,
     "metadata": {},
     "output_type": "execute_result"
    }
   ],
   "source": [
    "s_data.head()"
   ]
  },
  {
   "cell_type": "code",
   "execution_count": 8,
   "id": "fatty-idaho",
   "metadata": {},
   "outputs": [
    {
     "data": {
      "text/plain": [
       "(2000, 18)"
      ]
     },
     "execution_count": 8,
     "metadata": {},
     "output_type": "execute_result"
    }
   ],
   "source": [
    "s_data.shape"
   ]
  },
  {
   "cell_type": "code",
   "execution_count": 9,
   "id": "aging-poetry",
   "metadata": {},
   "outputs": [
    {
     "data": {
      "text/plain": [
       "Index(['Unnamed: 0', 'Invoice ID', 'Branch', 'City', 'Customer type', 'Gender',\n",
       "       'Product line', 'Unit price', 'Quantity', 'Tax 5%', 'Total', 'Date',\n",
       "       'Time', 'Payment', 'cogs', 'gross margin percentage', 'gross income',\n",
       "       'Rating'],\n",
       "      dtype='object')"
      ]
     },
     "execution_count": 9,
     "metadata": {},
     "output_type": "execute_result"
    }
   ],
   "source": [
    "s_data.columns"
   ]
  },
  {
   "cell_type": "code",
   "execution_count": 10,
   "id": "guilty-london",
   "metadata": {},
   "outputs": [
    {
     "data": {
      "text/html": [
       "<div>\n",
       "<style scoped>\n",
       "    .dataframe tbody tr th:only-of-type {\n",
       "        vertical-align: middle;\n",
       "    }\n",
       "\n",
       "    .dataframe tbody tr th {\n",
       "        vertical-align: top;\n",
       "    }\n",
       "\n",
       "    .dataframe thead th {\n",
       "        text-align: right;\n",
       "    }\n",
       "</style>\n",
       "<table border=\"1\" class=\"dataframe\">\n",
       "  <thead>\n",
       "    <tr style=\"text-align: right;\">\n",
       "      <th></th>\n",
       "      <th>Unnamed: 0</th>\n",
       "      <th>Unit price</th>\n",
       "      <th>Quantity</th>\n",
       "      <th>Tax 5%</th>\n",
       "      <th>Total</th>\n",
       "      <th>cogs</th>\n",
       "      <th>gross margin percentage</th>\n",
       "      <th>gross income</th>\n",
       "      <th>Rating</th>\n",
       "    </tr>\n",
       "  </thead>\n",
       "  <tbody>\n",
       "    <tr>\n",
       "      <th>count</th>\n",
       "      <td>1000.000000</td>\n",
       "      <td>2000.000000</td>\n",
       "      <td>2000.000000</td>\n",
       "      <td>2000.00000</td>\n",
       "      <td>2000.000000</td>\n",
       "      <td>2000.000000</td>\n",
       "      <td>2000.000000</td>\n",
       "      <td>2000.00000</td>\n",
       "      <td>2000.00000</td>\n",
       "    </tr>\n",
       "    <tr>\n",
       "      <th>mean</th>\n",
       "      <td>499.500000</td>\n",
       "      <td>20041.966800</td>\n",
       "      <td>5.510000</td>\n",
       "      <td>5536.57284</td>\n",
       "      <td>116268.029640</td>\n",
       "      <td>110731.456800</td>\n",
       "      <td>4.761905</td>\n",
       "      <td>5536.57284</td>\n",
       "      <td>6.97270</td>\n",
       "    </tr>\n",
       "    <tr>\n",
       "      <th>std</th>\n",
       "      <td>288.819436</td>\n",
       "      <td>9535.680197</td>\n",
       "      <td>2.922699</td>\n",
       "      <td>4214.12272</td>\n",
       "      <td>88496.577116</td>\n",
       "      <td>84282.454396</td>\n",
       "      <td>0.000000</td>\n",
       "      <td>4214.12272</td>\n",
       "      <td>1.71815</td>\n",
       "    </tr>\n",
       "    <tr>\n",
       "      <th>min</th>\n",
       "      <td>0.000000</td>\n",
       "      <td>3628.800000</td>\n",
       "      <td>1.000000</td>\n",
       "      <td>183.06000</td>\n",
       "      <td>3844.260000</td>\n",
       "      <td>3661.200000</td>\n",
       "      <td>4.761905</td>\n",
       "      <td>183.06000</td>\n",
       "      <td>4.00000</td>\n",
       "    </tr>\n",
       "    <tr>\n",
       "      <th>25%</th>\n",
       "      <td>249.750000</td>\n",
       "      <td>11835.000000</td>\n",
       "      <td>3.000000</td>\n",
       "      <td>2132.95500</td>\n",
       "      <td>44792.055000</td>\n",
       "      <td>42659.100000</td>\n",
       "      <td>4.761905</td>\n",
       "      <td>2132.95500</td>\n",
       "      <td>5.50000</td>\n",
       "    </tr>\n",
       "    <tr>\n",
       "      <th>50%</th>\n",
       "      <td>499.500000</td>\n",
       "      <td>19882.800000</td>\n",
       "      <td>5.000000</td>\n",
       "      <td>4351.68000</td>\n",
       "      <td>91385.280000</td>\n",
       "      <td>87033.600000</td>\n",
       "      <td>4.761905</td>\n",
       "      <td>4351.68000</td>\n",
       "      <td>7.00000</td>\n",
       "    </tr>\n",
       "    <tr>\n",
       "      <th>75%</th>\n",
       "      <td>749.250000</td>\n",
       "      <td>28056.600000</td>\n",
       "      <td>8.000000</td>\n",
       "      <td>8080.29000</td>\n",
       "      <td>169686.090000</td>\n",
       "      <td>161605.800000</td>\n",
       "      <td>4.761905</td>\n",
       "      <td>8080.29000</td>\n",
       "      <td>8.50000</td>\n",
       "    </tr>\n",
       "    <tr>\n",
       "      <th>max</th>\n",
       "      <td>999.000000</td>\n",
       "      <td>35985.600000</td>\n",
       "      <td>10.000000</td>\n",
       "      <td>17874.00000</td>\n",
       "      <td>375354.000000</td>\n",
       "      <td>357480.000000</td>\n",
       "      <td>4.761905</td>\n",
       "      <td>17874.00000</td>\n",
       "      <td>10.00000</td>\n",
       "    </tr>\n",
       "  </tbody>\n",
       "</table>\n",
       "</div>"
      ],
      "text/plain": [
       "        Unnamed: 0    Unit price     Quantity       Tax 5%          Total  \\\n",
       "count  1000.000000   2000.000000  2000.000000   2000.00000    2000.000000   \n",
       "mean    499.500000  20041.966800     5.510000   5536.57284  116268.029640   \n",
       "std     288.819436   9535.680197     2.922699   4214.12272   88496.577116   \n",
       "min       0.000000   3628.800000     1.000000    183.06000    3844.260000   \n",
       "25%     249.750000  11835.000000     3.000000   2132.95500   44792.055000   \n",
       "50%     499.500000  19882.800000     5.000000   4351.68000   91385.280000   \n",
       "75%     749.250000  28056.600000     8.000000   8080.29000  169686.090000   \n",
       "max     999.000000  35985.600000    10.000000  17874.00000  375354.000000   \n",
       "\n",
       "                cogs  gross margin percentage  gross income      Rating  \n",
       "count    2000.000000              2000.000000    2000.00000  2000.00000  \n",
       "mean   110731.456800                 4.761905    5536.57284     6.97270  \n",
       "std     84282.454396                 0.000000    4214.12272     1.71815  \n",
       "min      3661.200000                 4.761905     183.06000     4.00000  \n",
       "25%     42659.100000                 4.761905    2132.95500     5.50000  \n",
       "50%     87033.600000                 4.761905    4351.68000     7.00000  \n",
       "75%    161605.800000                 4.761905    8080.29000     8.50000  \n",
       "max    357480.000000                 4.761905   17874.00000    10.00000  "
      ]
     },
     "execution_count": 10,
     "metadata": {},
     "output_type": "execute_result"
    }
   ],
   "source": [
    "s_data.describe()"
   ]
  },
  {
   "cell_type": "markdown",
   "id": "measured-victory",
   "metadata": {},
   "source": [
    "## Inferences from statistical summary of supermarket data\n",
    "#### ◘ Customers purchased an average of 5 products on each patronage\n",
    "#### ◘ The cheapest item in all stores is about 3,630 naira while the most expensive is about 40,000 naira\n",
    "#### ◘ Customer satisfaction across all stores is above average"
   ]
  },
  {
   "cell_type": "code",
   "execution_count": 11,
   "id": "fitting-somalia",
   "metadata": {},
   "outputs": [
    {
     "data": {
      "text/plain": [
       "Unnamed: 0                 1000\n",
       "Invoice ID                    0\n",
       "Branch                        0\n",
       "City                          0\n",
       "Customer type                 0\n",
       "Gender                        0\n",
       "Product line                  0\n",
       "Unit price                    0\n",
       "Quantity                      0\n",
       "Tax 5%                        0\n",
       "Total                         0\n",
       "Date                          0\n",
       "Time                          0\n",
       "Payment                       0\n",
       "cogs                          0\n",
       "gross margin percentage       0\n",
       "gross income                  0\n",
       "Rating                        0\n",
       "dtype: int64"
      ]
     },
     "execution_count": 11,
     "metadata": {},
     "output_type": "execute_result"
    }
   ],
   "source": [
    "s_data.isnull().sum()"
   ]
  },
  {
   "cell_type": "code",
   "execution_count": 12,
   "id": "copyrighted-deposit",
   "metadata": {},
   "outputs": [
    {
     "name": "stdout",
     "output_type": "stream",
     "text": [
      "<class 'pandas.core.frame.DataFrame'>\n",
      "RangeIndex: 2000 entries, 0 to 1999\n",
      "Data columns (total 18 columns):\n",
      " #   Column                   Non-Null Count  Dtype  \n",
      "---  ------                   --------------  -----  \n",
      " 0   Unnamed: 0               1000 non-null   float64\n",
      " 1   Invoice ID               2000 non-null   object \n",
      " 2   Branch                   2000 non-null   object \n",
      " 3   City                     2000 non-null   object \n",
      " 4   Customer type            2000 non-null   object \n",
      " 5   Gender                   2000 non-null   object \n",
      " 6   Product line             2000 non-null   object \n",
      " 7   Unit price               2000 non-null   float64\n",
      " 8   Quantity                 2000 non-null   int64  \n",
      " 9   Tax 5%                   2000 non-null   float64\n",
      " 10  Total                    2000 non-null   float64\n",
      " 11  Date                     2000 non-null   object \n",
      " 12  Time                     2000 non-null   object \n",
      " 13  Payment                  2000 non-null   object \n",
      " 14  cogs                     2000 non-null   float64\n",
      " 15  gross margin percentage  2000 non-null   float64\n",
      " 16  gross income             2000 non-null   float64\n",
      " 17  Rating                   2000 non-null   float64\n",
      "dtypes: float64(8), int64(1), object(9)\n",
      "memory usage: 281.4+ KB\n"
     ]
    }
   ],
   "source": [
    "s_data.info()"
   ]
  },
  {
   "cell_type": "markdown",
   "id": "legislative-nickname",
   "metadata": {},
   "source": [
    "## Working with DateTime"
   ]
  },
  {
   "cell_type": "markdown",
   "id": "sacred-rolling",
   "metadata": {},
   "source": [
    "#### • Convert Date"
   ]
  },
  {
   "cell_type": "code",
   "execution_count": 13,
   "id": "working-harvey",
   "metadata": {},
   "outputs": [],
   "source": [
    "s_data['Date'] = pd.to_datetime(s_data['Date'])"
   ]
  },
  {
   "cell_type": "code",
   "execution_count": 14,
   "id": "coordinate-cassette",
   "metadata": {},
   "outputs": [
    {
     "data": {
      "text/plain": [
       "dtype('<M8[ns]')"
      ]
     },
     "execution_count": 14,
     "metadata": {},
     "output_type": "execute_result"
    }
   ],
   "source": [
    "s_data['Date'].dtype"
   ]
  },
  {
   "cell_type": "markdown",
   "id": "closing-negotiation",
   "metadata": {},
   "source": [
    "#### • Convert Time "
   ]
  },
  {
   "cell_type": "code",
   "execution_count": 15,
   "id": "cheap-press",
   "metadata": {},
   "outputs": [],
   "source": [
    "s_data[\"Time\"] = pd.to_datetime(s_data['Time']).dt.time"
   ]
  },
  {
   "cell_type": "code",
   "execution_count": 16,
   "id": "happy-generic",
   "metadata": {},
   "outputs": [
    {
     "data": {
      "text/plain": [
       "datetime.time(12, 44)"
      ]
     },
     "execution_count": 16,
     "metadata": {},
     "output_type": "execute_result"
    }
   ],
   "source": [
    "s_data['Time'].iloc[1]"
   ]
  },
  {
   "cell_type": "markdown",
   "id": "configured-causing",
   "metadata": {},
   "source": [
    "#### • Extract Days"
   ]
  },
  {
   "cell_type": "code",
   "execution_count": 17,
   "id": "magnetic-blackjack",
   "metadata": {},
   "outputs": [],
   "source": [
    "days = s_data['Date'].dt.day"
   ]
  },
  {
   "cell_type": "code",
   "execution_count": 18,
   "id": "weighted-manufacturer",
   "metadata": {},
   "outputs": [
    {
     "data": {
      "text/plain": [
       "0        5\n",
       "1        4\n",
       "2       15\n",
       "3       16\n",
       "4       27\n",
       "        ..\n",
       "1995     2\n",
       "1996     4\n",
       "1997    16\n",
       "1998     3\n",
       "1999     3\n",
       "Name: Date, Length: 2000, dtype: int64"
      ]
     },
     "execution_count": 18,
     "metadata": {},
     "output_type": "execute_result"
    }
   ],
   "source": [
    "days"
   ]
  },
  {
   "cell_type": "markdown",
   "id": "quality-allergy",
   "metadata": {},
   "source": [
    "#### • Extract Months"
   ]
  },
  {
   "cell_type": "code",
   "execution_count": 19,
   "id": "acoustic-treatment",
   "metadata": {},
   "outputs": [],
   "source": [
    "months = s_data['Date'].dt.month"
   ]
  },
  {
   "cell_type": "code",
   "execution_count": 20,
   "id": "smart-protocol",
   "metadata": {},
   "outputs": [
    {
     "data": {
      "text/plain": [
       "0       1\n",
       "1       3\n",
       "2       2\n",
       "3       1\n",
       "4       2\n",
       "       ..\n",
       "1995    2\n",
       "1996    3\n",
       "1997    3\n",
       "1998    2\n",
       "1999    2\n",
       "Name: Date, Length: 2000, dtype: int64"
      ]
     },
     "execution_count": 20,
     "metadata": {},
     "output_type": "execute_result"
    }
   ],
   "source": [
    "months"
   ]
  },
  {
   "cell_type": "markdown",
   "id": "generic-capacity",
   "metadata": {},
   "source": [
    "#### • Extract Year"
   ]
  },
  {
   "cell_type": "code",
   "execution_count": 21,
   "id": "treated-refund",
   "metadata": {},
   "outputs": [],
   "source": [
    "year = s_data['Date'].dt.year"
   ]
  },
  {
   "cell_type": "code",
   "execution_count": 22,
   "id": "religious-jaguar",
   "metadata": {},
   "outputs": [
    {
     "data": {
      "text/plain": [
       "0       2019\n",
       "1       2019\n",
       "2       2019\n",
       "3       2019\n",
       "4       2019\n",
       "        ... \n",
       "1995    2019\n",
       "1996    2019\n",
       "1997    2019\n",
       "1998    2019\n",
       "1999    2019\n",
       "Name: Date, Length: 2000, dtype: int64"
      ]
     },
     "execution_count": 22,
     "metadata": {},
     "output_type": "execute_result"
    }
   ],
   "source": [
    "year"
   ]
  },
  {
   "cell_type": "markdown",
   "id": "authorized-morocco",
   "metadata": {},
   "source": [
    "#### • Extract Hour"
   ]
  },
  {
   "cell_type": "code",
   "execution_count": 23,
   "id": "raising-water",
   "metadata": {},
   "outputs": [],
   "source": [
    "hours = s_data['Time'].apply(lambda x: x.hour)"
   ]
  },
  {
   "cell_type": "code",
   "execution_count": 24,
   "id": "floppy-dayton",
   "metadata": {},
   "outputs": [
    {
     "data": {
      "text/plain": [
       "0       13\n",
       "1       12\n",
       "2       10\n",
       "3       17\n",
       "4       12\n",
       "        ..\n",
       "1995    10\n",
       "1996    20\n",
       "1997    19\n",
       "1998    10\n",
       "1999    15\n",
       "Name: Time, Length: 2000, dtype: int64"
      ]
     },
     "execution_count": 24,
     "metadata": {},
     "output_type": "execute_result"
    }
   ],
   "source": [
    "hours"
   ]
  },
  {
   "cell_type": "markdown",
   "id": "alpine-kennedy",
   "metadata": {},
   "source": [
    "#### • Unique sales hours"
   ]
  },
  {
   "cell_type": "code",
   "execution_count": 25,
   "id": "animal-remove",
   "metadata": {},
   "outputs": [
    {
     "data": {
      "text/plain": [
       "array([13, 12, 10, 17, 18, 19, 15, 14, 20, 16, 11])"
      ]
     },
     "execution_count": 25,
     "metadata": {},
     "output_type": "execute_result"
    }
   ],
   "source": [
    "hours.unique()"
   ]
  },
  {
   "cell_type": "markdown",
   "id": "cordless-prisoner",
   "metadata": {},
   "source": [
    "## Unique values and number of unique values in categorical columns"
   ]
  },
  {
   "cell_type": "markdown",
   "id": "light-static",
   "metadata": {},
   "source": [
    "#### • City"
   ]
  },
  {
   "cell_type": "code",
   "execution_count": 26,
   "id": "adjustable-productivity",
   "metadata": {},
   "outputs": [
    {
     "data": {
      "text/plain": [
       "array(['Lagos', 'Abuja', 'Port Harcourt'], dtype=object)"
      ]
     },
     "execution_count": 26,
     "metadata": {},
     "output_type": "execute_result"
    }
   ],
   "source": [
    "s_data['City'].unique()"
   ]
  },
  {
   "cell_type": "code",
   "execution_count": 27,
   "id": "adaptive-digest",
   "metadata": {},
   "outputs": [
    {
     "data": {
      "text/plain": [
       "Lagos            680\n",
       "Abuja            664\n",
       "Port Harcourt    656\n",
       "Name: City, dtype: int64"
      ]
     },
     "execution_count": 27,
     "metadata": {},
     "output_type": "execute_result"
    }
   ],
   "source": [
    "s_data['City'].value_counts()"
   ]
  },
  {
   "cell_type": "markdown",
   "id": "adjustable-idaho",
   "metadata": {},
   "source": [
    "#### • Customer type"
   ]
  },
  {
   "cell_type": "code",
   "execution_count": 28,
   "id": "objective-sender",
   "metadata": {},
   "outputs": [
    {
     "data": {
      "text/plain": [
       "array(['Member', 'Normal'], dtype=object)"
      ]
     },
     "execution_count": 28,
     "metadata": {},
     "output_type": "execute_result"
    }
   ],
   "source": [
    "s_data['Customer type'].unique()"
   ]
  },
  {
   "cell_type": "code",
   "execution_count": 29,
   "id": "classical-beauty",
   "metadata": {},
   "outputs": [
    {
     "data": {
      "text/plain": [
       "Member    1002\n",
       "Normal     998\n",
       "Name: Customer type, dtype: int64"
      ]
     },
     "execution_count": 29,
     "metadata": {},
     "output_type": "execute_result"
    }
   ],
   "source": [
    "s_data['Customer type'].value_counts()"
   ]
  },
  {
   "cell_type": "markdown",
   "id": "latest-sunday",
   "metadata": {},
   "source": [
    "#### • Gender"
   ]
  },
  {
   "cell_type": "code",
   "execution_count": 30,
   "id": "electric-fruit",
   "metadata": {},
   "outputs": [
    {
     "data": {
      "text/plain": [
       "array(['Female', 'Male'], dtype=object)"
      ]
     },
     "execution_count": 30,
     "metadata": {},
     "output_type": "execute_result"
    }
   ],
   "source": [
    "s_data['Gender'].unique()"
   ]
  },
  {
   "cell_type": "code",
   "execution_count": 31,
   "id": "lightweight-health",
   "metadata": {},
   "outputs": [
    {
     "data": {
      "text/plain": [
       "Female    1002\n",
       "Male       998\n",
       "Name: Gender, dtype: int64"
      ]
     },
     "execution_count": 31,
     "metadata": {},
     "output_type": "execute_result"
    }
   ],
   "source": [
    "s_data['Gender'].value_counts()"
   ]
  },
  {
   "cell_type": "markdown",
   "id": "cellular-translation",
   "metadata": {},
   "source": [
    "#### • Product line"
   ]
  },
  {
   "cell_type": "code",
   "execution_count": 32,
   "id": "working-klein",
   "metadata": {},
   "outputs": [
    {
     "data": {
      "text/plain": [
       "array(['Health and beauty', 'Food and beverages', 'Home and lifestyle',\n",
       "       'Fashion accessories', 'Electronic accessories',\n",
       "       'Sports and travel'], dtype=object)"
      ]
     },
     "execution_count": 32,
     "metadata": {},
     "output_type": "execute_result"
    }
   ],
   "source": [
    "s_data['Product line'].unique()"
   ]
  },
  {
   "cell_type": "code",
   "execution_count": 33,
   "id": "legal-alaska",
   "metadata": {},
   "outputs": [
    {
     "data": {
      "text/plain": [
       "Fashion accessories       356\n",
       "Food and beverages        348\n",
       "Electronic accessories    340\n",
       "Sports and travel         332\n",
       "Home and lifestyle        320\n",
       "Health and beauty         304\n",
       "Name: Product line, dtype: int64"
      ]
     },
     "execution_count": 33,
     "metadata": {},
     "output_type": "execute_result"
    }
   ],
   "source": [
    "s_data['Product line'].value_counts()"
   ]
  },
  {
   "cell_type": "markdown",
   "id": "cellular-google",
   "metadata": {},
   "source": [
    "#### • Payment"
   ]
  },
  {
   "cell_type": "code",
   "execution_count": 34,
   "id": "fewer-rally",
   "metadata": {},
   "outputs": [
    {
     "data": {
      "text/plain": [
       "array(['Epay', 'Cash', 'Card'], dtype=object)"
      ]
     },
     "execution_count": 34,
     "metadata": {},
     "output_type": "execute_result"
    }
   ],
   "source": [
    "s_data['Payment'].unique()"
   ]
  },
  {
   "cell_type": "code",
   "execution_count": 35,
   "id": "korean-briefing",
   "metadata": {},
   "outputs": [
    {
     "data": {
      "text/plain": [
       "Epay    690\n",
       "Cash    688\n",
       "Card    622\n",
       "Name: Payment, dtype: int64"
      ]
     },
     "execution_count": 35,
     "metadata": {},
     "output_type": "execute_result"
    }
   ],
   "source": [
    "s_data['Payment'].value_counts()"
   ]
  },
  {
   "cell_type": "markdown",
   "id": "coral-float",
   "metadata": {},
   "source": [
    "## Aggregation"
   ]
  },
  {
   "cell_type": "code",
   "execution_count": 36,
   "id": "solved-curtis",
   "metadata": {},
   "outputs": [],
   "source": [
    "city_groups = s_data.groupby('City')"
   ]
  },
  {
   "cell_type": "code",
   "execution_count": 37,
   "id": "frequent-corpus",
   "metadata": {},
   "outputs": [],
   "source": [
    "total_agg = city_groups.agg([\"sum\", \"mean\"]).round(2)"
   ]
  },
  {
   "cell_type": "code",
   "execution_count": 38,
   "id": "unavailable-yemen",
   "metadata": {},
   "outputs": [
    {
     "data": {
      "text/html": [
       "<div>\n",
       "<style scoped>\n",
       "    .dataframe tbody tr th:only-of-type {\n",
       "        vertical-align: middle;\n",
       "    }\n",
       "\n",
       "    .dataframe tbody tr th {\n",
       "        vertical-align: top;\n",
       "    }\n",
       "\n",
       "    .dataframe thead tr th {\n",
       "        text-align: left;\n",
       "    }\n",
       "\n",
       "    .dataframe thead tr:last-of-type th {\n",
       "        text-align: right;\n",
       "    }\n",
       "</style>\n",
       "<table border=\"1\" class=\"dataframe\">\n",
       "  <thead>\n",
       "    <tr>\n",
       "      <th></th>\n",
       "      <th colspan=\"2\" halign=\"left\">Unnamed: 0</th>\n",
       "      <th colspan=\"2\" halign=\"left\">Unit price</th>\n",
       "      <th colspan=\"2\" halign=\"left\">Quantity</th>\n",
       "      <th colspan=\"2\" halign=\"left\">Tax 5%</th>\n",
       "      <th colspan=\"2\" halign=\"left\">Total</th>\n",
       "      <th colspan=\"2\" halign=\"left\">cogs</th>\n",
       "      <th colspan=\"2\" halign=\"left\">gross margin percentage</th>\n",
       "      <th colspan=\"2\" halign=\"left\">gross income</th>\n",
       "      <th colspan=\"2\" halign=\"left\">Rating</th>\n",
       "    </tr>\n",
       "    <tr>\n",
       "      <th></th>\n",
       "      <th>sum</th>\n",
       "      <th>mean</th>\n",
       "      <th>sum</th>\n",
       "      <th>mean</th>\n",
       "      <th>sum</th>\n",
       "      <th>mean</th>\n",
       "      <th>sum</th>\n",
       "      <th>mean</th>\n",
       "      <th>sum</th>\n",
       "      <th>mean</th>\n",
       "      <th>sum</th>\n",
       "      <th>mean</th>\n",
       "      <th>sum</th>\n",
       "      <th>mean</th>\n",
       "      <th>sum</th>\n",
       "      <th>mean</th>\n",
       "      <th>sum</th>\n",
       "      <th>mean</th>\n",
       "    </tr>\n",
       "    <tr>\n",
       "      <th>City</th>\n",
       "      <th></th>\n",
       "      <th></th>\n",
       "      <th></th>\n",
       "      <th></th>\n",
       "      <th></th>\n",
       "      <th></th>\n",
       "      <th></th>\n",
       "      <th></th>\n",
       "      <th></th>\n",
       "      <th></th>\n",
       "      <th></th>\n",
       "      <th></th>\n",
       "      <th></th>\n",
       "      <th></th>\n",
       "      <th></th>\n",
       "      <th></th>\n",
       "      <th></th>\n",
       "      <th></th>\n",
       "    </tr>\n",
       "  </thead>\n",
       "  <tbody>\n",
       "    <tr>\n",
       "      <th>Abuja</th>\n",
       "      <td>167826.0</td>\n",
       "      <td>505.5</td>\n",
       "      <td>13304793.6</td>\n",
       "      <td>20037.34</td>\n",
       "      <td>3640</td>\n",
       "      <td>5.48</td>\n",
       "      <td>3641063.04</td>\n",
       "      <td>5483.53</td>\n",
       "      <td>76462323.84</td>\n",
       "      <td>115154.10</td>\n",
       "      <td>72821260.8</td>\n",
       "      <td>109670.57</td>\n",
       "      <td>3161.90</td>\n",
       "      <td>4.76</td>\n",
       "      <td>3641063.04</td>\n",
       "      <td>5483.53</td>\n",
       "      <td>4527.2</td>\n",
       "      <td>6.82</td>\n",
       "    </tr>\n",
       "    <tr>\n",
       "      <th>Lagos</th>\n",
       "      <td>57630.0</td>\n",
       "      <td>169.5</td>\n",
       "      <td>13410352.8</td>\n",
       "      <td>19721.11</td>\n",
       "      <td>3718</td>\n",
       "      <td>5.47</td>\n",
       "      <td>3641155.56</td>\n",
       "      <td>5354.64</td>\n",
       "      <td>76464266.76</td>\n",
       "      <td>112447.45</td>\n",
       "      <td>72823111.2</td>\n",
       "      <td>107092.81</td>\n",
       "      <td>3238.10</td>\n",
       "      <td>4.76</td>\n",
       "      <td>3641155.56</td>\n",
       "      <td>5354.64</td>\n",
       "      <td>4778.4</td>\n",
       "      <td>7.03</td>\n",
       "    </tr>\n",
       "    <tr>\n",
       "      <th>Port Harcourt</th>\n",
       "      <td>274044.0</td>\n",
       "      <td>835.5</td>\n",
       "      <td>13368787.2</td>\n",
       "      <td>20379.25</td>\n",
       "      <td>3662</td>\n",
       "      <td>5.58</td>\n",
       "      <td>3790927.08</td>\n",
       "      <td>5778.85</td>\n",
       "      <td>79609468.68</td>\n",
       "      <td>121355.90</td>\n",
       "      <td>75818541.6</td>\n",
       "      <td>115577.05</td>\n",
       "      <td>3123.81</td>\n",
       "      <td>4.76</td>\n",
       "      <td>3790927.08</td>\n",
       "      <td>5778.85</td>\n",
       "      <td>4639.8</td>\n",
       "      <td>7.07</td>\n",
       "    </tr>\n",
       "  </tbody>\n",
       "</table>\n",
       "</div>"
      ],
      "text/plain": [
       "              Unnamed: 0         Unit price           Quantity        \\\n",
       "                     sum   mean         sum      mean      sum  mean   \n",
       "City                                                                   \n",
       "Abuja           167826.0  505.5  13304793.6  20037.34     3640  5.48   \n",
       "Lagos            57630.0  169.5  13410352.8  19721.11     3718  5.47   \n",
       "Port Harcourt   274044.0  835.5  13368787.2  20379.25     3662  5.58   \n",
       "\n",
       "                   Tax 5%                 Total                   cogs  \\\n",
       "                      sum     mean          sum       mean         sum   \n",
       "City                                                                     \n",
       "Abuja          3641063.04  5483.53  76462323.84  115154.10  72821260.8   \n",
       "Lagos          3641155.56  5354.64  76464266.76  112447.45  72823111.2   \n",
       "Port Harcourt  3790927.08  5778.85  79609468.68  121355.90  75818541.6   \n",
       "\n",
       "                         gross margin percentage       gross income           \\\n",
       "                    mean                     sum  mean          sum     mean   \n",
       "City                                                                           \n",
       "Abuja          109670.57                 3161.90  4.76   3641063.04  5483.53   \n",
       "Lagos          107092.81                 3238.10  4.76   3641155.56  5354.64   \n",
       "Port Harcourt  115577.05                 3123.81  4.76   3790927.08  5778.85   \n",
       "\n",
       "               Rating        \n",
       "                  sum  mean  \n",
       "City                         \n",
       "Abuja          4527.2  6.82  \n",
       "Lagos          4778.4  7.03  \n",
       "Port Harcourt  4639.8  7.07  "
      ]
     },
     "execution_count": 38,
     "metadata": {},
     "output_type": "execute_result"
    }
   ],
   "source": [
    "total_agg"
   ]
  },
  {
   "cell_type": "markdown",
   "id": "joint-communications",
   "metadata": {},
   "source": [
    "#### • Gross Income\n"
   ]
  },
  {
   "cell_type": "code",
   "execution_count": 39,
   "id": "declared-glory",
   "metadata": {},
   "outputs": [],
   "source": [
    "gross_agg = city_groups.agg({'gross income': 'sum'}).round(2)"
   ]
  },
  {
   "cell_type": "code",
   "execution_count": 40,
   "id": "later-peace",
   "metadata": {},
   "outputs": [
    {
     "data": {
      "text/html": [
       "<div>\n",
       "<style scoped>\n",
       "    .dataframe tbody tr th:only-of-type {\n",
       "        vertical-align: middle;\n",
       "    }\n",
       "\n",
       "    .dataframe tbody tr th {\n",
       "        vertical-align: top;\n",
       "    }\n",
       "\n",
       "    .dataframe thead th {\n",
       "        text-align: right;\n",
       "    }\n",
       "</style>\n",
       "<table border=\"1\" class=\"dataframe\">\n",
       "  <thead>\n",
       "    <tr style=\"text-align: right;\">\n",
       "      <th></th>\n",
       "      <th>gross income</th>\n",
       "    </tr>\n",
       "    <tr>\n",
       "      <th>City</th>\n",
       "      <th></th>\n",
       "    </tr>\n",
       "  </thead>\n",
       "  <tbody>\n",
       "    <tr>\n",
       "      <th>Abuja</th>\n",
       "      <td>3641063.04</td>\n",
       "    </tr>\n",
       "    <tr>\n",
       "      <th>Lagos</th>\n",
       "      <td>3641155.56</td>\n",
       "    </tr>\n",
       "    <tr>\n",
       "      <th>Port Harcourt</th>\n",
       "      <td>3790927.08</td>\n",
       "    </tr>\n",
       "  </tbody>\n",
       "</table>\n",
       "</div>"
      ],
      "text/plain": [
       "               gross income\n",
       "City                       \n",
       "Abuja            3641063.04\n",
       "Lagos            3641155.56\n",
       "Port Harcourt    3790927.08"
      ]
     },
     "execution_count": 40,
     "metadata": {},
     "output_type": "execute_result"
    }
   ],
   "source": [
    "gross_agg"
   ]
  },
  {
   "cell_type": "markdown",
   "id": "numerical-friendship",
   "metadata": {},
   "source": [
    "#### • City with the highest gross income"
   ]
  },
  {
   "cell_type": "code",
   "execution_count": 41,
   "id": "female-thomson",
   "metadata": {},
   "outputs": [
    {
     "data": {
      "text/html": [
       "<div>\n",
       "<style scoped>\n",
       "    .dataframe tbody tr th:only-of-type {\n",
       "        vertical-align: middle;\n",
       "    }\n",
       "\n",
       "    .dataframe tbody tr th {\n",
       "        vertical-align: top;\n",
       "    }\n",
       "\n",
       "    .dataframe thead th {\n",
       "        text-align: right;\n",
       "    }\n",
       "</style>\n",
       "<table border=\"1\" class=\"dataframe\">\n",
       "  <thead>\n",
       "    <tr style=\"text-align: right;\">\n",
       "      <th></th>\n",
       "      <th>gross income</th>\n",
       "    </tr>\n",
       "    <tr>\n",
       "      <th>City</th>\n",
       "      <th></th>\n",
       "    </tr>\n",
       "  </thead>\n",
       "  <tbody>\n",
       "    <tr>\n",
       "      <th>Port Harcourt</th>\n",
       "      <td>3790927.08</td>\n",
       "    </tr>\n",
       "  </tbody>\n",
       "</table>\n",
       "</div>"
      ],
      "text/plain": [
       "               gross income\n",
       "City                       \n",
       "Port Harcourt    3790927.08"
      ]
     },
     "execution_count": 41,
     "metadata": {},
     "output_type": "execute_result"
    }
   ],
   "source": [
    "gross_agg.loc[gross_agg['gross income'] == gross_agg['gross income'].max()]"
   ]
  },
  {
   "cell_type": "markdown",
   "id": "interim-thomson",
   "metadata": {},
   "source": [
    "# Data Visualization"
   ]
  },
  {
   "cell_type": "markdown",
   "id": "trying-freeze",
   "metadata": {},
   "source": [
    "#### • Branch total sales"
   ]
  },
  {
   "cell_type": "code",
   "execution_count": 42,
   "id": "pending-character",
   "metadata": {},
   "outputs": [
    {
     "data": {
      "text/plain": [
       "<AxesSubplot:xlabel='Branch', ylabel='count'>"
      ]
     },
     "execution_count": 42,
     "metadata": {},
     "output_type": "execute_result"
    },
    {
     "data": {
      "image/png": "[encoded data removed]",
      "text/plain": [
       "<Figure size 432x288 with 1 Axes>"
      ]
     },
     "metadata": {
      "needs_background": "light"
     },
     "output_type": "display_data"
    }
   ],
   "source": [
    "sb.countplot(x=\"Branch\",data=s_data)"
   ]
  },
  {
   "cell_type": "markdown",
   "id": "modified-thesis",
   "metadata": {},
   "source": [
    "###### ‣Branch with highest sales record is  branch A"
   ]
  },
  {
   "cell_type": "markdown",
   "id": "personalized-ceiling",
   "metadata": {},
   "source": [
    "#### • Highest & Lowest sold product line"
   ]
  },
  {
   "cell_type": "code",
   "execution_count": 43,
   "id": "current-updating",
   "metadata": {},
   "outputs": [
    {
     "data": {
      "text/plain": [
       "[None, None, None, None, None, None, None, None, None, None, None, None]"
      ]
     },
     "execution_count": 43,
     "metadata": {},
     "output_type": "execute_result"
    },
    {
     "data": {
      "image/png": "[encoded data removed]",
      "text/plain": [
       "<Figure size 432x288 with 1 Axes>"
      ]
     },
     "metadata": {
      "needs_background": "light"
     },
     "output_type": "display_data"
    }
   ],
   "source": [
    "p_line_plot = sb.countplot(x=\"Product line\",data=s_data)\n",
    "plt.setp(p_line_plot.get_xticklabels(), rotation=40)"
   ]
  },
  {
   "cell_type": "markdown",
   "id": "ordinary-danish",
   "metadata": {},
   "source": [
    "###### ‣Highest sold product line is Fashion accessories\n",
    "###### ‣Lowest sold product line is  Health and beauty"
   ]
  },
  {
   "cell_type": "markdown",
   "id": "numerous-necklace",
   "metadata": {},
   "source": [
    "#### • Most used payment channel"
   ]
  },
  {
   "cell_type": "code",
   "execution_count": 44,
   "id": "boxed-search",
   "metadata": {},
   "outputs": [
    {
     "data": {
      "text/plain": [
       "<AxesSubplot:xlabel='count', ylabel='Product line'>"
      ]
     },
     "execution_count": 44,
     "metadata": {},
     "output_type": "execute_result"
    },
    {
     "data": {
      "image/png": "[encoded data removed]",
      "text/plain": [
       "<Figure size 432x288 with 1 Axes>"
      ]
     },
     "metadata": {
      "needs_background": "light"
     },
     "output_type": "display_data"
    }
   ],
   "source": [
    "sb.countplot(y = \"Product line\" ,data=s_data, hue = \"Payment\")"
   ]
  }
 ],
 "metadata": {
  "kernelspec": {
   "display_name": "Python 3",
   "language": "python",
   "name": "python3"
  },
  "language_info": {
   "codemirror_mode": {
    "name": "ipython",
    "version": 3
   },
   "file_extension": ".py",
   "mimetype": "text/x-python",
   "name": "python",
   "nbconvert_exporter": "python",
   "pygments_lexer": "ipython3",
   "version": "3.8.5"
  }
 },
 "nbformat": 4,
 "nbformat_minor": 5
}
