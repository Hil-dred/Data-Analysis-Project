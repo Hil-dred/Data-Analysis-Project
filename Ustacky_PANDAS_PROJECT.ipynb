{
 "cells": [
  {
   "cell_type": "markdown",
   "id": "physical-cooler",
   "metadata": {},
   "source": [
    "### Import Libraries and Module"
   ]
  },
  {
   "cell_type": "code",
   "execution_count": 1,
   "id": "better-diana",
   "metadata": {},
   "outputs": [],
   "source": [
    "import glob\n",
    "import numpy as np\n",
    "import pandas as pd\n",
    "import datetime as dt\n",
    "import matplotlib.pyplot as plt\n",
    "import seaborn as sb"
   ]
  },
  {
   "cell_type": "markdown",
   "id": "rotary-reality",
   "metadata": {},
   "source": [
    "### Combine Lagos, Abuja and Port-harcourt Datasets and write to csv file"
   ]
  },
  {
   "cell_type": "code",
   "execution_count": 2,
   "id": "grave-clearance",
   "metadata": {},
   "outputs": [],
   "source": [
    "directory = r\"/home/hildred/Desktop/Ustacky_PROJECTS/Data-Analysis-Project\"\n",
    "files = glob.glob(directory + \"/*.csv\")"
   ]
  },
  {
   "cell_type": "code",
   "execution_count": 3,
   "id": "inner-burning",
   "metadata": {},
   "outputs": [],
   "source": [
    "file_list = []\n",
    "for file in files:\n",
    "    read_file = pd.read_csv(file, index_col=None, header=0)\n",
    "    file_list.append(read_file)"
   ]
  },
  {
   "cell_type": "code",
   "execution_count": 4,
   "id": "thick-iceland",
   "metadata": {},
   "outputs": [
    {
     "name": "stdout",
     "output_type": "stream",
     "text": [
      "['/home/hildred/Desktop/Ustacky_PROJECTS/Data-Analysis-Project/Lagos_Branch.csv', '/home/hildred/Desktop/Ustacky_PROJECTS/Data-Analysis-Project/Abuja_Branch.csv', '/home/hildred/Desktop/Ustacky_PROJECTS/Data-Analysis-Project/Port_Harcourt_Branch.csv']\n"
     ]
    }
   ],
   "source": [
    "print(files)"
   ]
  },
  {
   "cell_type": "code",
   "execution_count": 5,
   "id": "theoretical-gregory",
   "metadata": {},
   "outputs": [],
   "source": [
    "data = pd.concat(file_list, axis=0, ignore_index=True)"
   ]
  },
  {
   "cell_type": "code",
   "execution_count": 6,
   "id": "maritime-platinum",
   "metadata": {},
   "outputs": [],
   "source": [
    "sort_data = data.sort_values(by = ['Branch']).reset_index(drop=True)"
   ]
  },
  {
   "cell_type": "code",
   "execution_count": 7,
   "id": "adaptive-functionality",
   "metadata": {},
   "outputs": [],
   "source": [
    "sort_data.to_csv('supermarket_data.csv', index=False)"
   ]
  },
  {
   "cell_type": "markdown",
   "id": "numeric-gamma",
   "metadata": {},
   "source": [
    "### Data Exploration"
   ]
  },
  {
   "cell_type": "code",
   "execution_count": 8,
   "id": "powerful-manitoba",
   "metadata": {},
   "outputs": [],
   "source": [
    "s_data = pd.read_csv(\"supermarket_data.csv\")"
   ]
  },
  {
   "cell_type": "code",
   "execution_count": 9,
   "id": "electric-burke",
   "metadata": {},
   "outputs": [
    {
     "data": {
      "text/html": [
       "<div>\n",
       "<style scoped>\n",
       "    .dataframe tbody tr th:only-of-type {\n",
       "        vertical-align: middle;\n",
       "    }\n",
       "\n",
       "    .dataframe tbody tr th {\n",
       "        vertical-align: top;\n",
       "    }\n",
       "\n",
       "    .dataframe thead th {\n",
       "        text-align: right;\n",
       "    }\n",
       "</style>\n",
       "<table border=\"1\" class=\"dataframe\">\n",
       "  <thead>\n",
       "    <tr style=\"text-align: right;\">\n",
       "      <th></th>\n",
       "      <th>Invoice ID</th>\n",
       "      <th>Branch</th>\n",
       "      <th>City</th>\n",
       "      <th>Customer type</th>\n",
       "      <th>Gender</th>\n",
       "      <th>Product line</th>\n",
       "      <th>Unit price</th>\n",
       "      <th>Quantity</th>\n",
       "      <th>Tax 5%</th>\n",
       "      <th>Total</th>\n",
       "      <th>Date</th>\n",
       "      <th>Time</th>\n",
       "      <th>Payment</th>\n",
       "      <th>cogs</th>\n",
       "      <th>gross margin percentage</th>\n",
       "      <th>gross income</th>\n",
       "      <th>Rating</th>\n",
       "    </tr>\n",
       "  </thead>\n",
       "  <tbody>\n",
       "    <tr>\n",
       "      <th>0</th>\n",
       "      <td>750-67-8428</td>\n",
       "      <td>A</td>\n",
       "      <td>Lagos</td>\n",
       "      <td>Member</td>\n",
       "      <td>Female</td>\n",
       "      <td>Health and beauty</td>\n",
       "      <td>26888.4</td>\n",
       "      <td>7</td>\n",
       "      <td>9410.94</td>\n",
       "      <td>197629.74</td>\n",
       "      <td>1/5/2019</td>\n",
       "      <td>13:08</td>\n",
       "      <td>Epay</td>\n",
       "      <td>188218.8</td>\n",
       "      <td>4.761905</td>\n",
       "      <td>9410.94</td>\n",
       "      <td>9.1</td>\n",
       "    </tr>\n",
       "    <tr>\n",
       "      <th>1</th>\n",
       "      <td>305-03-2383</td>\n",
       "      <td>A</td>\n",
       "      <td>Lagos</td>\n",
       "      <td>Normal</td>\n",
       "      <td>Female</td>\n",
       "      <td>Food and beverages</td>\n",
       "      <td>24156.0</td>\n",
       "      <td>3</td>\n",
       "      <td>3623.40</td>\n",
       "      <td>76091.40</td>\n",
       "      <td>2/15/2019</td>\n",
       "      <td>10:36</td>\n",
       "      <td>Cash</td>\n",
       "      <td>72468.0</td>\n",
       "      <td>4.761905</td>\n",
       "      <td>3623.40</td>\n",
       "      <td>7.5</td>\n",
       "    </tr>\n",
       "    <tr>\n",
       "      <th>2</th>\n",
       "      <td>648-83-1321</td>\n",
       "      <td>A</td>\n",
       "      <td>Lagos</td>\n",
       "      <td>Member</td>\n",
       "      <td>Male</td>\n",
       "      <td>Home and lifestyle</td>\n",
       "      <td>22881.6</td>\n",
       "      <td>10</td>\n",
       "      <td>11440.80</td>\n",
       "      <td>240256.80</td>\n",
       "      <td>1/16/2019</td>\n",
       "      <td>17:59</td>\n",
       "      <td>Cash</td>\n",
       "      <td>228816.0</td>\n",
       "      <td>4.761905</td>\n",
       "      <td>11440.80</td>\n",
       "      <td>4.3</td>\n",
       "    </tr>\n",
       "    <tr>\n",
       "      <th>3</th>\n",
       "      <td>105-10-6182</td>\n",
       "      <td>A</td>\n",
       "      <td>Lagos</td>\n",
       "      <td>Member</td>\n",
       "      <td>Male</td>\n",
       "      <td>Fashion accessories</td>\n",
       "      <td>7732.8</td>\n",
       "      <td>2</td>\n",
       "      <td>773.28</td>\n",
       "      <td>16238.88</td>\n",
       "      <td>2/27/2019</td>\n",
       "      <td>12:22</td>\n",
       "      <td>Epay</td>\n",
       "      <td>15465.6</td>\n",
       "      <td>4.761905</td>\n",
       "      <td>773.28</td>\n",
       "      <td>6.6</td>\n",
       "    </tr>\n",
       "    <tr>\n",
       "      <th>4</th>\n",
       "      <td>130-67-4723</td>\n",
       "      <td>A</td>\n",
       "      <td>Lagos</td>\n",
       "      <td>Member</td>\n",
       "      <td>Male</td>\n",
       "      <td>Food and beverages</td>\n",
       "      <td>17460.0</td>\n",
       "      <td>6</td>\n",
       "      <td>5238.00</td>\n",
       "      <td>109998.00</td>\n",
       "      <td>1/11/2019</td>\n",
       "      <td>13:57</td>\n",
       "      <td>Epay</td>\n",
       "      <td>104760.0</td>\n",
       "      <td>4.761905</td>\n",
       "      <td>5238.00</td>\n",
       "      <td>9.4</td>\n",
       "    </tr>\n",
       "  </tbody>\n",
       "</table>\n",
       "</div>"
      ],
      "text/plain": [
       "    Invoice ID Branch   City Customer type  Gender         Product line  \\\n",
       "0  750-67-8428      A  Lagos        Member  Female    Health and beauty   \n",
       "1  305-03-2383      A  Lagos        Normal  Female   Food and beverages   \n",
       "2  648-83-1321      A  Lagos        Member    Male   Home and lifestyle   \n",
       "3  105-10-6182      A  Lagos        Member    Male  Fashion accessories   \n",
       "4  130-67-4723      A  Lagos        Member    Male   Food and beverages   \n",
       "\n",
       "   Unit price  Quantity    Tax 5%      Total       Date   Time Payment  \\\n",
       "0     26888.4         7   9410.94  197629.74   1/5/2019  13:08    Epay   \n",
       "1     24156.0         3   3623.40   76091.40  2/15/2019  10:36    Cash   \n",
       "2     22881.6        10  11440.80  240256.80  1/16/2019  17:59    Cash   \n",
       "3      7732.8         2    773.28   16238.88  2/27/2019  12:22    Epay   \n",
       "4     17460.0         6   5238.00  109998.00  1/11/2019  13:57    Epay   \n",
       "\n",
       "       cogs  gross margin percentage  gross income  Rating  \n",
       "0  188218.8                 4.761905       9410.94     9.1  \n",
       "1   72468.0                 4.761905       3623.40     7.5  \n",
       "2  228816.0                 4.761905      11440.80     4.3  \n",
       "3   15465.6                 4.761905        773.28     6.6  \n",
       "4  104760.0                 4.761905       5238.00     9.4  "
      ]
     },
     "execution_count": 9,
     "metadata": {},
     "output_type": "execute_result"
    }
   ],
   "source": [
    "s_data.head()"
   ]
  },
  {
   "cell_type": "code",
   "execution_count": 10,
   "id": "fatty-idaho",
   "metadata": {},
   "outputs": [
    {
     "data": {
      "text/plain": [
       "(1000, 17)"
      ]
     },
     "execution_count": 10,
     "metadata": {},
     "output_type": "execute_result"
    }
   ],
   "source": [
    "s_data.shape"
   ]
  },
  {
   "cell_type": "code",
   "execution_count": 11,
   "id": "aging-poetry",
   "metadata": {},
   "outputs": [
    {
     "data": {
      "text/plain": [
       "Index(['Invoice ID', 'Branch', 'City', 'Customer type', 'Gender',\n",
       "       'Product line', 'Unit price', 'Quantity', 'Tax 5%', 'Total', 'Date',\n",
       "       'Time', 'Payment', 'cogs', 'gross margin percentage', 'gross income',\n",
       "       'Rating'],\n",
       "      dtype='object')"
      ]
     },
     "execution_count": 11,
     "metadata": {},
     "output_type": "execute_result"
    }
   ],
   "source": [
    "s_data.columns"
   ]
  },
  {
   "cell_type": "code",
   "execution_count": 12,
   "id": "guilty-london",
   "metadata": {},
   "outputs": [
    {
     "data": {
      "text/html": [
       "<div>\n",
       "<style scoped>\n",
       "    .dataframe tbody tr th:only-of-type {\n",
       "        vertical-align: middle;\n",
       "    }\n",
       "\n",
       "    .dataframe tbody tr th {\n",
       "        vertical-align: top;\n",
       "    }\n",
       "\n",
       "    .dataframe thead th {\n",
       "        text-align: right;\n",
       "    }\n",
       "</style>\n",
       "<table border=\"1\" class=\"dataframe\">\n",
       "  <thead>\n",
       "    <tr style=\"text-align: right;\">\n",
       "      <th></th>\n",
       "      <th>Unit price</th>\n",
       "      <th>Quantity</th>\n",
       "      <th>Tax 5%</th>\n",
       "      <th>Total</th>\n",
       "      <th>cogs</th>\n",
       "      <th>gross margin percentage</th>\n",
       "      <th>gross income</th>\n",
       "      <th>Rating</th>\n",
       "    </tr>\n",
       "  </thead>\n",
       "  <tbody>\n",
       "    <tr>\n",
       "      <th>count</th>\n",
       "      <td>1000.000000</td>\n",
       "      <td>1000.000000</td>\n",
       "      <td>1000.000000</td>\n",
       "      <td>1000.000000</td>\n",
       "      <td>1000.000000</td>\n",
       "      <td>1.000000e+03</td>\n",
       "      <td>1000.000000</td>\n",
       "      <td>1000.00000</td>\n",
       "    </tr>\n",
       "    <tr>\n",
       "      <th>mean</th>\n",
       "      <td>20041.966800</td>\n",
       "      <td>5.510000</td>\n",
       "      <td>5536.572840</td>\n",
       "      <td>116268.029640</td>\n",
       "      <td>110731.456800</td>\n",
       "      <td>4.761905e+00</td>\n",
       "      <td>5536.572840</td>\n",
       "      <td>6.97270</td>\n",
       "    </tr>\n",
       "    <tr>\n",
       "      <th>std</th>\n",
       "      <td>9538.066205</td>\n",
       "      <td>2.923431</td>\n",
       "      <td>4215.177173</td>\n",
       "      <td>88518.720636</td>\n",
       "      <td>84303.543463</td>\n",
       "      <td>6.220360e-14</td>\n",
       "      <td>4215.177173</td>\n",
       "      <td>1.71858</td>\n",
       "    </tr>\n",
       "    <tr>\n",
       "      <th>min</th>\n",
       "      <td>3628.800000</td>\n",
       "      <td>1.000000</td>\n",
       "      <td>183.060000</td>\n",
       "      <td>3844.260000</td>\n",
       "      <td>3661.200000</td>\n",
       "      <td>4.761905e+00</td>\n",
       "      <td>183.060000</td>\n",
       "      <td>4.00000</td>\n",
       "    </tr>\n",
       "    <tr>\n",
       "      <th>25%</th>\n",
       "      <td>11835.000000</td>\n",
       "      <td>3.000000</td>\n",
       "      <td>2132.955000</td>\n",
       "      <td>44792.055000</td>\n",
       "      <td>42659.100000</td>\n",
       "      <td>4.761905e+00</td>\n",
       "      <td>2132.955000</td>\n",
       "      <td>5.50000</td>\n",
       "    </tr>\n",
       "    <tr>\n",
       "      <th>50%</th>\n",
       "      <td>19882.800000</td>\n",
       "      <td>5.000000</td>\n",
       "      <td>4351.680000</td>\n",
       "      <td>91385.280000</td>\n",
       "      <td>87033.600000</td>\n",
       "      <td>4.761905e+00</td>\n",
       "      <td>4351.680000</td>\n",
       "      <td>7.00000</td>\n",
       "    </tr>\n",
       "    <tr>\n",
       "      <th>75%</th>\n",
       "      <td>28056.600000</td>\n",
       "      <td>8.000000</td>\n",
       "      <td>8080.290000</td>\n",
       "      <td>169686.090000</td>\n",
       "      <td>161605.800000</td>\n",
       "      <td>4.761905e+00</td>\n",
       "      <td>8080.290000</td>\n",
       "      <td>8.50000</td>\n",
       "    </tr>\n",
       "    <tr>\n",
       "      <th>max</th>\n",
       "      <td>35985.600000</td>\n",
       "      <td>10.000000</td>\n",
       "      <td>17874.000000</td>\n",
       "      <td>375354.000000</td>\n",
       "      <td>357480.000000</td>\n",
       "      <td>4.761905e+00</td>\n",
       "      <td>17874.000000</td>\n",
       "      <td>10.00000</td>\n",
       "    </tr>\n",
       "  </tbody>\n",
       "</table>\n",
       "</div>"
      ],
      "text/plain": [
       "         Unit price     Quantity        Tax 5%          Total           cogs  \\\n",
       "count   1000.000000  1000.000000   1000.000000    1000.000000    1000.000000   \n",
       "mean   20041.966800     5.510000   5536.572840  116268.029640  110731.456800   \n",
       "std     9538.066205     2.923431   4215.177173   88518.720636   84303.543463   \n",
       "min     3628.800000     1.000000    183.060000    3844.260000    3661.200000   \n",
       "25%    11835.000000     3.000000   2132.955000   44792.055000   42659.100000   \n",
       "50%    19882.800000     5.000000   4351.680000   91385.280000   87033.600000   \n",
       "75%    28056.600000     8.000000   8080.290000  169686.090000  161605.800000   \n",
       "max    35985.600000    10.000000  17874.000000  375354.000000  357480.000000   \n",
       "\n",
       "       gross margin percentage  gross income      Rating  \n",
       "count             1.000000e+03   1000.000000  1000.00000  \n",
       "mean              4.761905e+00   5536.572840     6.97270  \n",
       "std               6.220360e-14   4215.177173     1.71858  \n",
       "min               4.761905e+00    183.060000     4.00000  \n",
       "25%               4.761905e+00   2132.955000     5.50000  \n",
       "50%               4.761905e+00   4351.680000     7.00000  \n",
       "75%               4.761905e+00   8080.290000     8.50000  \n",
       "max               4.761905e+00  17874.000000    10.00000  "
      ]
     },
     "execution_count": 12,
     "metadata": {},
     "output_type": "execute_result"
    }
   ],
   "source": [
    "s_data.describe()"
   ]
  },
  {
   "cell_type": "markdown",
   "id": "measured-victory",
   "metadata": {},
   "source": [
    "## Inferences from statistical summary of supermarket data\n",
    "#### ◘ Customers purchased an average of 5 products on each patronage\n",
    "#### ◘ The cheapest item in all stores is about 3,630 naira while the most expensive is about 40,000 naira\n",
    "#### ◘ Customer satisfaction across all stores is above average\n",
    "#### ◘ There are no outliers in the data provided\n"
   ]
  },
  {
   "cell_type": "code",
   "execution_count": 13,
   "id": "fitting-somalia",
   "metadata": {},
   "outputs": [
    {
     "data": {
      "text/plain": [
       "Invoice ID                 0\n",
       "Branch                     0\n",
       "City                       0\n",
       "Customer type              0\n",
       "Gender                     0\n",
       "Product line               0\n",
       "Unit price                 0\n",
       "Quantity                   0\n",
       "Tax 5%                     0\n",
       "Total                      0\n",
       "Date                       0\n",
       "Time                       0\n",
       "Payment                    0\n",
       "cogs                       0\n",
       "gross margin percentage    0\n",
       "gross income               0\n",
       "Rating                     0\n",
       "dtype: int64"
      ]
     },
     "execution_count": 13,
     "metadata": {},
     "output_type": "execute_result"
    }
   ],
   "source": [
    "s_data.isnull().sum()"
   ]
  },
  {
   "cell_type": "code",
   "execution_count": 14,
   "id": "copyrighted-deposit",
   "metadata": {},
   "outputs": [
    {
     "name": "stdout",
     "output_type": "stream",
     "text": [
      "<class 'pandas.core.frame.DataFrame'>\n",
      "RangeIndex: 1000 entries, 0 to 999\n",
      "Data columns (total 17 columns):\n",
      " #   Column                   Non-Null Count  Dtype  \n",
      "---  ------                   --------------  -----  \n",
      " 0   Invoice ID               1000 non-null   object \n",
      " 1   Branch                   1000 non-null   object \n",
      " 2   City                     1000 non-null   object \n",
      " 3   Customer type            1000 non-null   object \n",
      " 4   Gender                   1000 non-null   object \n",
      " 5   Product line             1000 non-null   object \n",
      " 6   Unit price               1000 non-null   float64\n",
      " 7   Quantity                 1000 non-null   int64  \n",
      " 8   Tax 5%                   1000 non-null   float64\n",
      " 9   Total                    1000 non-null   float64\n",
      " 10  Date                     1000 non-null   object \n",
      " 11  Time                     1000 non-null   object \n",
      " 12  Payment                  1000 non-null   object \n",
      " 13  cogs                     1000 non-null   float64\n",
      " 14  gross margin percentage  1000 non-null   float64\n",
      " 15  gross income             1000 non-null   float64\n",
      " 16  Rating                   1000 non-null   float64\n",
      "dtypes: float64(7), int64(1), object(9)\n",
      "memory usage: 132.9+ KB\n"
     ]
    }
   ],
   "source": [
    "s_data.info()"
   ]
  },
  {
   "cell_type": "markdown",
   "id": "legislative-nickname",
   "metadata": {},
   "source": [
    "## Working with DateTime"
   ]
  },
  {
   "cell_type": "markdown",
   "id": "sacred-rolling",
   "metadata": {},
   "source": [
    "#### • Convert Date"
   ]
  },
  {
   "cell_type": "code",
   "execution_count": 15,
   "id": "working-harvey",
   "metadata": {},
   "outputs": [],
   "source": [
    "s_data['Date'] = pd.to_datetime(s_data['Date'])"
   ]
  },
  {
   "cell_type": "code",
   "execution_count": 16,
   "id": "coordinate-cassette",
   "metadata": {},
   "outputs": [
    {
     "data": {
      "text/plain": [
       "dtype('<M8[ns]')"
      ]
     },
     "execution_count": 16,
     "metadata": {},
     "output_type": "execute_result"
    }
   ],
   "source": [
    "s_data['Date'].dtype"
   ]
  },
  {
   "cell_type": "markdown",
   "id": "closing-negotiation",
   "metadata": {},
   "source": [
    "#### • Convert Time "
   ]
  },
  {
   "cell_type": "code",
   "execution_count": 17,
   "id": "cheap-press",
   "metadata": {},
   "outputs": [],
   "source": [
    "s_data[\"Time\"] = pd.to_datetime(s_data['Time'], errors='coerce')"
   ]
  },
  {
   "cell_type": "markdown",
   "id": "configured-causing",
   "metadata": {},
   "source": [
    "#### • Extract Days"
   ]
  },
  {
   "cell_type": "code",
   "execution_count": 18,
   "id": "magnetic-blackjack",
   "metadata": {},
   "outputs": [],
   "source": [
    "s_data['Day'] = s_data['Date'].dt.day"
   ]
  },
  {
   "cell_type": "markdown",
   "id": "quality-allergy",
   "metadata": {},
   "source": [
    "#### • Extract Months"
   ]
  },
  {
   "cell_type": "code",
   "execution_count": 19,
   "id": "acoustic-treatment",
   "metadata": {},
   "outputs": [],
   "source": [
    "s_data['Month'] = s_data['Date'].dt.month"
   ]
  },
  {
   "cell_type": "markdown",
   "id": "generic-capacity",
   "metadata": {},
   "source": [
    "#### • Extract Year"
   ]
  },
  {
   "cell_type": "code",
   "execution_count": 20,
   "id": "treated-refund",
   "metadata": {},
   "outputs": [],
   "source": [
    "s_data[\"Year\"] = s_data['Date'].dt.year"
   ]
  },
  {
   "cell_type": "markdown",
   "id": "authorized-morocco",
   "metadata": {},
   "source": [
    "#### • Extract Hour"
   ]
  },
  {
   "cell_type": "code",
   "execution_count": 21,
   "id": "raising-water",
   "metadata": {},
   "outputs": [],
   "source": [
    "s_data['Hour'] = s_data['Time'].dt.hour "
   ]
  },
  {
   "cell_type": "code",
   "execution_count": 22,
   "id": "sunrise-corruption",
   "metadata": {},
   "outputs": [
    {
     "data": {
      "text/html": [
       "<div>\n",
       "<style scoped>\n",
       "    .dataframe tbody tr th:only-of-type {\n",
       "        vertical-align: middle;\n",
       "    }\n",
       "\n",
       "    .dataframe tbody tr th {\n",
       "        vertical-align: top;\n",
       "    }\n",
       "\n",
       "    .dataframe thead th {\n",
       "        text-align: right;\n",
       "    }\n",
       "</style>\n",
       "<table border=\"1\" class=\"dataframe\">\n",
       "  <thead>\n",
       "    <tr style=\"text-align: right;\">\n",
       "      <th></th>\n",
       "      <th>Invoice ID</th>\n",
       "      <th>Branch</th>\n",
       "      <th>City</th>\n",
       "      <th>Customer type</th>\n",
       "      <th>Gender</th>\n",
       "      <th>Product line</th>\n",
       "      <th>Unit price</th>\n",
       "      <th>Quantity</th>\n",
       "      <th>Tax 5%</th>\n",
       "      <th>Total</th>\n",
       "      <th>...</th>\n",
       "      <th>Time</th>\n",
       "      <th>Payment</th>\n",
       "      <th>cogs</th>\n",
       "      <th>gross margin percentage</th>\n",
       "      <th>gross income</th>\n",
       "      <th>Rating</th>\n",
       "      <th>Day</th>\n",
       "      <th>Month</th>\n",
       "      <th>Year</th>\n",
       "      <th>Hour</th>\n",
       "    </tr>\n",
       "  </thead>\n",
       "  <tbody>\n",
       "    <tr>\n",
       "      <th>0</th>\n",
       "      <td>750-67-8428</td>\n",
       "      <td>A</td>\n",
       "      <td>Lagos</td>\n",
       "      <td>Member</td>\n",
       "      <td>Female</td>\n",
       "      <td>Health and beauty</td>\n",
       "      <td>26888.4</td>\n",
       "      <td>7</td>\n",
       "      <td>9410.94</td>\n",
       "      <td>197629.74</td>\n",
       "      <td>...</td>\n",
       "      <td>2021-06-21 13:08:00</td>\n",
       "      <td>Epay</td>\n",
       "      <td>188218.8</td>\n",
       "      <td>4.761905</td>\n",
       "      <td>9410.94</td>\n",
       "      <td>9.1</td>\n",
       "      <td>5</td>\n",
       "      <td>1</td>\n",
       "      <td>2019</td>\n",
       "      <td>13</td>\n",
       "    </tr>\n",
       "    <tr>\n",
       "      <th>1</th>\n",
       "      <td>305-03-2383</td>\n",
       "      <td>A</td>\n",
       "      <td>Lagos</td>\n",
       "      <td>Normal</td>\n",
       "      <td>Female</td>\n",
       "      <td>Food and beverages</td>\n",
       "      <td>24156.0</td>\n",
       "      <td>3</td>\n",
       "      <td>3623.40</td>\n",
       "      <td>76091.40</td>\n",
       "      <td>...</td>\n",
       "      <td>2021-06-21 10:36:00</td>\n",
       "      <td>Cash</td>\n",
       "      <td>72468.0</td>\n",
       "      <td>4.761905</td>\n",
       "      <td>3623.40</td>\n",
       "      <td>7.5</td>\n",
       "      <td>15</td>\n",
       "      <td>2</td>\n",
       "      <td>2019</td>\n",
       "      <td>10</td>\n",
       "    </tr>\n",
       "    <tr>\n",
       "      <th>2</th>\n",
       "      <td>648-83-1321</td>\n",
       "      <td>A</td>\n",
       "      <td>Lagos</td>\n",
       "      <td>Member</td>\n",
       "      <td>Male</td>\n",
       "      <td>Home and lifestyle</td>\n",
       "      <td>22881.6</td>\n",
       "      <td>10</td>\n",
       "      <td>11440.80</td>\n",
       "      <td>240256.80</td>\n",
       "      <td>...</td>\n",
       "      <td>2021-06-21 17:59:00</td>\n",
       "      <td>Cash</td>\n",
       "      <td>228816.0</td>\n",
       "      <td>4.761905</td>\n",
       "      <td>11440.80</td>\n",
       "      <td>4.3</td>\n",
       "      <td>16</td>\n",
       "      <td>1</td>\n",
       "      <td>2019</td>\n",
       "      <td>17</td>\n",
       "    </tr>\n",
       "    <tr>\n",
       "      <th>3</th>\n",
       "      <td>105-10-6182</td>\n",
       "      <td>A</td>\n",
       "      <td>Lagos</td>\n",
       "      <td>Member</td>\n",
       "      <td>Male</td>\n",
       "      <td>Fashion accessories</td>\n",
       "      <td>7732.8</td>\n",
       "      <td>2</td>\n",
       "      <td>773.28</td>\n",
       "      <td>16238.88</td>\n",
       "      <td>...</td>\n",
       "      <td>2021-06-21 12:22:00</td>\n",
       "      <td>Epay</td>\n",
       "      <td>15465.6</td>\n",
       "      <td>4.761905</td>\n",
       "      <td>773.28</td>\n",
       "      <td>6.6</td>\n",
       "      <td>27</td>\n",
       "      <td>2</td>\n",
       "      <td>2019</td>\n",
       "      <td>12</td>\n",
       "    </tr>\n",
       "    <tr>\n",
       "      <th>4</th>\n",
       "      <td>130-67-4723</td>\n",
       "      <td>A</td>\n",
       "      <td>Lagos</td>\n",
       "      <td>Member</td>\n",
       "      <td>Male</td>\n",
       "      <td>Food and beverages</td>\n",
       "      <td>17460.0</td>\n",
       "      <td>6</td>\n",
       "      <td>5238.00</td>\n",
       "      <td>109998.00</td>\n",
       "      <td>...</td>\n",
       "      <td>2021-06-21 13:57:00</td>\n",
       "      <td>Epay</td>\n",
       "      <td>104760.0</td>\n",
       "      <td>4.761905</td>\n",
       "      <td>5238.00</td>\n",
       "      <td>9.4</td>\n",
       "      <td>11</td>\n",
       "      <td>1</td>\n",
       "      <td>2019</td>\n",
       "      <td>13</td>\n",
       "    </tr>\n",
       "  </tbody>\n",
       "</table>\n",
       "<p>5 rows × 21 columns</p>\n",
       "</div>"
      ],
      "text/plain": [
       "    Invoice ID Branch   City Customer type  Gender         Product line  \\\n",
       "0  750-67-8428      A  Lagos        Member  Female    Health and beauty   \n",
       "1  305-03-2383      A  Lagos        Normal  Female   Food and beverages   \n",
       "2  648-83-1321      A  Lagos        Member    Male   Home and lifestyle   \n",
       "3  105-10-6182      A  Lagos        Member    Male  Fashion accessories   \n",
       "4  130-67-4723      A  Lagos        Member    Male   Food and beverages   \n",
       "\n",
       "   Unit price  Quantity    Tax 5%      Total  ...                Time Payment  \\\n",
       "0     26888.4         7   9410.94  197629.74  ... 2021-06-21 13:08:00    Epay   \n",
       "1     24156.0         3   3623.40   76091.40  ... 2021-06-21 10:36:00    Cash   \n",
       "2     22881.6        10  11440.80  240256.80  ... 2021-06-21 17:59:00    Cash   \n",
       "3      7732.8         2    773.28   16238.88  ... 2021-06-21 12:22:00    Epay   \n",
       "4     17460.0         6   5238.00  109998.00  ... 2021-06-21 13:57:00    Epay   \n",
       "\n",
       "       cogs  gross margin percentage  gross income  Rating  Day  Month  Year  \\\n",
       "0  188218.8                 4.761905       9410.94     9.1    5      1  2019   \n",
       "1   72468.0                 4.761905       3623.40     7.5   15      2  2019   \n",
       "2  228816.0                 4.761905      11440.80     4.3   16      1  2019   \n",
       "3   15465.6                 4.761905        773.28     6.6   27      2  2019   \n",
       "4  104760.0                 4.761905       5238.00     9.4   11      1  2019   \n",
       "\n",
       "   Hour  \n",
       "0    13  \n",
       "1    10  \n",
       "2    17  \n",
       "3    12  \n",
       "4    13  \n",
       "\n",
       "[5 rows x 21 columns]"
      ]
     },
     "execution_count": 22,
     "metadata": {},
     "output_type": "execute_result"
    }
   ],
   "source": [
    "s_data.head()"
   ]
  },
  {
   "cell_type": "markdown",
   "id": "alpine-kennedy",
   "metadata": {},
   "source": [
    "#### • Unique sales hours"
   ]
  },
  {
   "cell_type": "code",
   "execution_count": 23,
   "id": "animal-remove",
   "metadata": {},
   "outputs": [
    {
     "data": {
      "text/plain": [
       "array([13, 10, 17, 12, 18, 19, 15, 14, 20, 16, 11])"
      ]
     },
     "execution_count": 23,
     "metadata": {},
     "output_type": "execute_result"
    }
   ],
   "source": [
    "s_data[\"Hour\"].unique()"
   ]
  },
  {
   "cell_type": "markdown",
   "id": "cordless-prisoner",
   "metadata": {},
   "source": [
    "## Unique values and number of unique values in categorical columns"
   ]
  },
  {
   "cell_type": "markdown",
   "id": "light-static",
   "metadata": {},
   "source": [
    "#### • City"
   ]
  },
  {
   "cell_type": "code",
   "execution_count": 24,
   "id": "adjustable-productivity",
   "metadata": {},
   "outputs": [
    {
     "data": {
      "text/plain": [
       "array(['Lagos', 'Abuja', 'Port Harcourt'], dtype=object)"
      ]
     },
     "execution_count": 24,
     "metadata": {},
     "output_type": "execute_result"
    }
   ],
   "source": [
    "s_data['City'].unique()"
   ]
  },
  {
   "cell_type": "code",
   "execution_count": 25,
   "id": "adaptive-digest",
   "metadata": {},
   "outputs": [
    {
     "data": {
      "text/plain": [
       "Lagos            340\n",
       "Abuja            332\n",
       "Port Harcourt    328\n",
       "Name: City, dtype: int64"
      ]
     },
     "execution_count": 25,
     "metadata": {},
     "output_type": "execute_result"
    }
   ],
   "source": [
    "s_data['City'].value_counts()"
   ]
  },
  {
   "cell_type": "markdown",
   "id": "adjustable-idaho",
   "metadata": {},
   "source": [
    "#### • Customer type"
   ]
  },
  {
   "cell_type": "code",
   "execution_count": 26,
   "id": "objective-sender",
   "metadata": {},
   "outputs": [
    {
     "data": {
      "text/plain": [
       "array(['Member', 'Normal'], dtype=object)"
      ]
     },
     "execution_count": 26,
     "metadata": {},
     "output_type": "execute_result"
    }
   ],
   "source": [
    "s_data['Customer type'].unique()"
   ]
  },
  {
   "cell_type": "code",
   "execution_count": 27,
   "id": "classical-beauty",
   "metadata": {},
   "outputs": [
    {
     "data": {
      "text/plain": [
       "Member    501\n",
       "Normal    499\n",
       "Name: Customer type, dtype: int64"
      ]
     },
     "execution_count": 27,
     "metadata": {},
     "output_type": "execute_result"
    }
   ],
   "source": [
    "s_data['Customer type'].value_counts()"
   ]
  },
  {
   "cell_type": "markdown",
   "id": "latest-sunday",
   "metadata": {},
   "source": [
    "#### • Gender"
   ]
  },
  {
   "cell_type": "code",
   "execution_count": 28,
   "id": "electric-fruit",
   "metadata": {},
   "outputs": [
    {
     "data": {
      "text/plain": [
       "array(['Female', 'Male'], dtype=object)"
      ]
     },
     "execution_count": 28,
     "metadata": {},
     "output_type": "execute_result"
    }
   ],
   "source": [
    "s_data['Gender'].unique()"
   ]
  },
  {
   "cell_type": "code",
   "execution_count": 29,
   "id": "lightweight-health",
   "metadata": {},
   "outputs": [
    {
     "data": {
      "text/plain": [
       "Female    501\n",
       "Male      499\n",
       "Name: Gender, dtype: int64"
      ]
     },
     "execution_count": 29,
     "metadata": {},
     "output_type": "execute_result"
    }
   ],
   "source": [
    "s_data['Gender'].value_counts()"
   ]
  },
  {
   "cell_type": "markdown",
   "id": "cellular-translation",
   "metadata": {},
   "source": [
    "#### • Product line"
   ]
  },
  {
   "cell_type": "code",
   "execution_count": 30,
   "id": "working-klein",
   "metadata": {},
   "outputs": [
    {
     "data": {
      "text/plain": [
       "array(['Health and beauty', 'Food and beverages', 'Home and lifestyle',\n",
       "       'Fashion accessories', 'Electronic accessories',\n",
       "       'Sports and travel'], dtype=object)"
      ]
     },
     "execution_count": 30,
     "metadata": {},
     "output_type": "execute_result"
    }
   ],
   "source": [
    "s_data['Product line'].unique()"
   ]
  },
  {
   "cell_type": "code",
   "execution_count": 31,
   "id": "legal-alaska",
   "metadata": {},
   "outputs": [
    {
     "data": {
      "text/plain": [
       "Fashion accessories       178\n",
       "Food and beverages        174\n",
       "Electronic accessories    170\n",
       "Sports and travel         166\n",
       "Home and lifestyle        160\n",
       "Health and beauty         152\n",
       "Name: Product line, dtype: int64"
      ]
     },
     "execution_count": 31,
     "metadata": {},
     "output_type": "execute_result"
    }
   ],
   "source": [
    "s_data['Product line'].value_counts()"
   ]
  },
  {
   "cell_type": "markdown",
   "id": "cellular-google",
   "metadata": {},
   "source": [
    "#### • Payment"
   ]
  },
  {
   "cell_type": "code",
   "execution_count": 32,
   "id": "fewer-rally",
   "metadata": {},
   "outputs": [
    {
     "data": {
      "text/plain": [
       "array(['Epay', 'Cash', 'Card'], dtype=object)"
      ]
     },
     "execution_count": 32,
     "metadata": {},
     "output_type": "execute_result"
    }
   ],
   "source": [
    "s_data['Payment'].unique()"
   ]
  },
  {
   "cell_type": "code",
   "execution_count": 33,
   "id": "korean-briefing",
   "metadata": {},
   "outputs": [
    {
     "data": {
      "text/plain": [
       "Epay    345\n",
       "Cash    344\n",
       "Card    311\n",
       "Name: Payment, dtype: int64"
      ]
     },
     "execution_count": 33,
     "metadata": {},
     "output_type": "execute_result"
    }
   ],
   "source": [
    "s_data['Payment'].value_counts()"
   ]
  },
  {
   "cell_type": "markdown",
   "id": "coral-float",
   "metadata": {},
   "source": [
    "## Aggregation"
   ]
  },
  {
   "cell_type": "code",
   "execution_count": 34,
   "id": "solved-curtis",
   "metadata": {},
   "outputs": [],
   "source": [
    "city_groups = s_data.groupby('City')"
   ]
  },
  {
   "cell_type": "code",
   "execution_count": 35,
   "id": "frequent-corpus",
   "metadata": {},
   "outputs": [],
   "source": [
    "total_agg = city_groups.agg([\"sum\", \"mean\"]).round(2)"
   ]
  },
  {
   "cell_type": "code",
   "execution_count": 36,
   "id": "unavailable-yemen",
   "metadata": {},
   "outputs": [
    {
     "data": {
      "text/html": [
       "<div>\n",
       "<style scoped>\n",
       "    .dataframe tbody tr th:only-of-type {\n",
       "        vertical-align: middle;\n",
       "    }\n",
       "\n",
       "    .dataframe tbody tr th {\n",
       "        vertical-align: top;\n",
       "    }\n",
       "\n",
       "    .dataframe thead tr th {\n",
       "        text-align: left;\n",
       "    }\n",
       "\n",
       "    .dataframe thead tr:last-of-type th {\n",
       "        text-align: right;\n",
       "    }\n",
       "</style>\n",
       "<table border=\"1\" class=\"dataframe\">\n",
       "  <thead>\n",
       "    <tr>\n",
       "      <th></th>\n",
       "      <th colspan=\"2\" halign=\"left\">Unit price</th>\n",
       "      <th colspan=\"2\" halign=\"left\">Quantity</th>\n",
       "      <th colspan=\"2\" halign=\"left\">Tax 5%</th>\n",
       "      <th colspan=\"2\" halign=\"left\">Total</th>\n",
       "      <th colspan=\"2\" halign=\"left\">cogs</th>\n",
       "      <th>...</th>\n",
       "      <th colspan=\"2\" halign=\"left\">Rating</th>\n",
       "      <th colspan=\"2\" halign=\"left\">Day</th>\n",
       "      <th colspan=\"2\" halign=\"left\">Month</th>\n",
       "      <th colspan=\"2\" halign=\"left\">Year</th>\n",
       "      <th colspan=\"2\" halign=\"left\">Hour</th>\n",
       "    </tr>\n",
       "    <tr>\n",
       "      <th></th>\n",
       "      <th>sum</th>\n",
       "      <th>mean</th>\n",
       "      <th>sum</th>\n",
       "      <th>mean</th>\n",
       "      <th>sum</th>\n",
       "      <th>mean</th>\n",
       "      <th>sum</th>\n",
       "      <th>mean</th>\n",
       "      <th>sum</th>\n",
       "      <th>mean</th>\n",
       "      <th>...</th>\n",
       "      <th>sum</th>\n",
       "      <th>mean</th>\n",
       "      <th>sum</th>\n",
       "      <th>mean</th>\n",
       "      <th>sum</th>\n",
       "      <th>mean</th>\n",
       "      <th>sum</th>\n",
       "      <th>mean</th>\n",
       "      <th>sum</th>\n",
       "      <th>mean</th>\n",
       "    </tr>\n",
       "    <tr>\n",
       "      <th>City</th>\n",
       "      <th></th>\n",
       "      <th></th>\n",
       "      <th></th>\n",
       "      <th></th>\n",
       "      <th></th>\n",
       "      <th></th>\n",
       "      <th></th>\n",
       "      <th></th>\n",
       "      <th></th>\n",
       "      <th></th>\n",
       "      <th></th>\n",
       "      <th></th>\n",
       "      <th></th>\n",
       "      <th></th>\n",
       "      <th></th>\n",
       "      <th></th>\n",
       "      <th></th>\n",
       "      <th></th>\n",
       "      <th></th>\n",
       "      <th></th>\n",
       "      <th></th>\n",
       "    </tr>\n",
       "  </thead>\n",
       "  <tbody>\n",
       "    <tr>\n",
       "      <th>Abuja</th>\n",
       "      <td>6652396.8</td>\n",
       "      <td>20037.34</td>\n",
       "      <td>1820</td>\n",
       "      <td>5.48</td>\n",
       "      <td>1820531.52</td>\n",
       "      <td>5483.53</td>\n",
       "      <td>38231161.92</td>\n",
       "      <td>115154.10</td>\n",
       "      <td>36410630.4</td>\n",
       "      <td>109670.57</td>\n",
       "      <td>...</td>\n",
       "      <td>2263.6</td>\n",
       "      <td>6.82</td>\n",
       "      <td>5068</td>\n",
       "      <td>15.27</td>\n",
       "      <td>665</td>\n",
       "      <td>2.00</td>\n",
       "      <td>670308</td>\n",
       "      <td>2019</td>\n",
       "      <td>5029</td>\n",
       "      <td>15.15</td>\n",
       "    </tr>\n",
       "    <tr>\n",
       "      <th>Lagos</th>\n",
       "      <td>6705176.4</td>\n",
       "      <td>19721.11</td>\n",
       "      <td>1859</td>\n",
       "      <td>5.47</td>\n",
       "      <td>1820577.78</td>\n",
       "      <td>5354.64</td>\n",
       "      <td>38232133.38</td>\n",
       "      <td>112447.45</td>\n",
       "      <td>36411555.6</td>\n",
       "      <td>107092.81</td>\n",
       "      <td>...</td>\n",
       "      <td>2389.2</td>\n",
       "      <td>7.03</td>\n",
       "      <td>5232</td>\n",
       "      <td>15.39</td>\n",
       "      <td>688</td>\n",
       "      <td>2.02</td>\n",
       "      <td>686460</td>\n",
       "      <td>2019</td>\n",
       "      <td>4987</td>\n",
       "      <td>14.67</td>\n",
       "    </tr>\n",
       "    <tr>\n",
       "      <th>Port Harcourt</th>\n",
       "      <td>6684393.6</td>\n",
       "      <td>20379.25</td>\n",
       "      <td>1831</td>\n",
       "      <td>5.58</td>\n",
       "      <td>1895463.54</td>\n",
       "      <td>5778.85</td>\n",
       "      <td>39804734.34</td>\n",
       "      <td>121355.90</td>\n",
       "      <td>37909270.8</td>\n",
       "      <td>115577.05</td>\n",
       "      <td>...</td>\n",
       "      <td>2319.9</td>\n",
       "      <td>7.07</td>\n",
       "      <td>4956</td>\n",
       "      <td>15.11</td>\n",
       "      <td>640</td>\n",
       "      <td>1.95</td>\n",
       "      <td>662232</td>\n",
       "      <td>2019</td>\n",
       "      <td>4894</td>\n",
       "      <td>14.92</td>\n",
       "    </tr>\n",
       "  </tbody>\n",
       "</table>\n",
       "<p>3 rows × 24 columns</p>\n",
       "</div>"
      ],
      "text/plain": [
       "              Unit price           Quantity            Tax 5%           \\\n",
       "                     sum      mean      sum  mean         sum     mean   \n",
       "City                                                                     \n",
       "Abuja          6652396.8  20037.34     1820  5.48  1820531.52  5483.53   \n",
       "Lagos          6705176.4  19721.11     1859  5.47  1820577.78  5354.64   \n",
       "Port Harcourt  6684393.6  20379.25     1831  5.58  1895463.54  5778.85   \n",
       "\n",
       "                     Total                   cogs             ...  Rating  \\\n",
       "                       sum       mean         sum       mean  ...     sum   \n",
       "City                                                          ...           \n",
       "Abuja          38231161.92  115154.10  36410630.4  109670.57  ...  2263.6   \n",
       "Lagos          38232133.38  112447.45  36411555.6  107092.81  ...  2389.2   \n",
       "Port Harcourt  39804734.34  121355.90  37909270.8  115577.05  ...  2319.9   \n",
       "\n",
       "                      Day        Month          Year        Hour         \n",
       "               mean   sum   mean   sum  mean     sum  mean   sum   mean  \n",
       "City                                                                     \n",
       "Abuja          6.82  5068  15.27   665  2.00  670308  2019  5029  15.15  \n",
       "Lagos          7.03  5232  15.39   688  2.02  686460  2019  4987  14.67  \n",
       "Port Harcourt  7.07  4956  15.11   640  1.95  662232  2019  4894  14.92  \n",
       "\n",
       "[3 rows x 24 columns]"
      ]
     },
     "execution_count": 36,
     "metadata": {},
     "output_type": "execute_result"
    }
   ],
   "source": [
    "total_agg"
   ]
  },
  {
   "cell_type": "markdown",
   "id": "joint-communications",
   "metadata": {},
   "source": [
    "#### • Gross Income\n"
   ]
  },
  {
   "cell_type": "code",
   "execution_count": 37,
   "id": "declared-glory",
   "metadata": {},
   "outputs": [],
   "source": [
    "gross_agg = city_groups.agg({'gross income': 'sum'}).round(2)"
   ]
  },
  {
   "cell_type": "code",
   "execution_count": 38,
   "id": "later-peace",
   "metadata": {},
   "outputs": [
    {
     "data": {
      "text/html": [
       "<div>\n",
       "<style scoped>\n",
       "    .dataframe tbody tr th:only-of-type {\n",
       "        vertical-align: middle;\n",
       "    }\n",
       "\n",
       "    .dataframe tbody tr th {\n",
       "        vertical-align: top;\n",
       "    }\n",
       "\n",
       "    .dataframe thead th {\n",
       "        text-align: right;\n",
       "    }\n",
       "</style>\n",
       "<table border=\"1\" class=\"dataframe\">\n",
       "  <thead>\n",
       "    <tr style=\"text-align: right;\">\n",
       "      <th></th>\n",
       "      <th>gross income</th>\n",
       "    </tr>\n",
       "    <tr>\n",
       "      <th>City</th>\n",
       "      <th></th>\n",
       "    </tr>\n",
       "  </thead>\n",
       "  <tbody>\n",
       "    <tr>\n",
       "      <th>Abuja</th>\n",
       "      <td>1820531.52</td>\n",
       "    </tr>\n",
       "    <tr>\n",
       "      <th>Lagos</th>\n",
       "      <td>1820577.78</td>\n",
       "    </tr>\n",
       "    <tr>\n",
       "      <th>Port Harcourt</th>\n",
       "      <td>1895463.54</td>\n",
       "    </tr>\n",
       "  </tbody>\n",
       "</table>\n",
       "</div>"
      ],
      "text/plain": [
       "               gross income\n",
       "City                       \n",
       "Abuja            1820531.52\n",
       "Lagos            1820577.78\n",
       "Port Harcourt    1895463.54"
      ]
     },
     "execution_count": 38,
     "metadata": {},
     "output_type": "execute_result"
    }
   ],
   "source": [
    "gross_agg"
   ]
  },
  {
   "cell_type": "markdown",
   "id": "numerical-friendship",
   "metadata": {},
   "source": [
    "#### • City with the highest gross income"
   ]
  },
  {
   "cell_type": "code",
   "execution_count": 39,
   "id": "female-thomson",
   "metadata": {},
   "outputs": [
    {
     "data": {
      "text/html": [
       "<div>\n",
       "<style scoped>\n",
       "    .dataframe tbody tr th:only-of-type {\n",
       "        vertical-align: middle;\n",
       "    }\n",
       "\n",
       "    .dataframe tbody tr th {\n",
       "        vertical-align: top;\n",
       "    }\n",
       "\n",
       "    .dataframe thead th {\n",
       "        text-align: right;\n",
       "    }\n",
       "</style>\n",
       "<table border=\"1\" class=\"dataframe\">\n",
       "  <thead>\n",
       "    <tr style=\"text-align: right;\">\n",
       "      <th></th>\n",
       "      <th>gross income</th>\n",
       "    </tr>\n",
       "    <tr>\n",
       "      <th>City</th>\n",
       "      <th></th>\n",
       "    </tr>\n",
       "  </thead>\n",
       "  <tbody>\n",
       "    <tr>\n",
       "      <th>Port Harcourt</th>\n",
       "      <td>1895463.54</td>\n",
       "    </tr>\n",
       "  </tbody>\n",
       "</table>\n",
       "</div>"
      ],
      "text/plain": [
       "               gross income\n",
       "City                       \n",
       "Port Harcourt    1895463.54"
      ]
     },
     "execution_count": 39,
     "metadata": {},
     "output_type": "execute_result"
    }
   ],
   "source": [
    "gross_agg.loc[gross_agg['gross income'] == gross_agg['gross income'].max()]"
   ]
  },
  {
   "cell_type": "markdown",
   "id": "interim-thomson",
   "metadata": {},
   "source": [
    "# Data Visualization"
   ]
  },
  {
   "cell_type": "markdown",
   "id": "trying-freeze",
   "metadata": {},
   "source": [
    "#### • Branch total sales record"
   ]
  },
  {
   "cell_type": "code",
   "execution_count": 40,
   "id": "pending-character",
   "metadata": {},
   "outputs": [
    {
     "data": {
      "image/png": "[encoded data removed]",
      "text/plain": [
       "<Figure size 576x432 with 1 Axes>"
      ]
     },
     "metadata": {
      "needs_background": "light"
     },
     "output_type": "display_data"
    }
   ],
   "source": [
    "plt.figure(figsize= (8,6))\n",
    "ts_plot = sb.countplot(x=\"Branch\",data=s_data)\n",
    "ts_plot.set_title(\"Total sales record per branch\", fontdict= {\"fontsize\": 17, \"fontweight\": \"bold\"})\n",
    "plt.show()"
   ]
  },
  {
   "cell_type": "markdown",
   "id": "modified-thesis",
   "metadata": {},
   "source": [
    "###### ‣Branch with highest sales record is  branch A"
   ]
  },
  {
   "cell_type": "code",
   "execution_count": null,
   "id": "pretty-layer",
   "metadata": {},
   "outputs": [],
   "source": []
  },
  {
   "cell_type": "markdown",
   "id": "personalized-ceiling",
   "metadata": {},
   "source": [
    "#### • Highest & Lowest sold product line"
   ]
  },
  {
   "cell_type": "code",
   "execution_count": 41,
   "id": "current-updating",
   "metadata": {},
   "outputs": [
    {
     "data": {
      "image/png": "[encoded data removed]",
      "text/plain": [
       "<Figure size 576x432 with 1 Axes>"
      ]
     },
     "metadata": {
      "needs_background": "light"
     },
     "output_type": "display_data"
    }
   ],
   "source": [
    "plt.figure(figsize= (8,6))\n",
    "p_line_plot = sb.countplot(x=\"Product line\",data=s_data)\n",
    "p_line_plot.set_title(\"Number of sales per product line\", fontdict = {\"fontsize\": 17, \"fontweight\": \"bold\"})\n",
    "plt.setp(p_line_plot.get_xticklabels(), rotation=40)\n",
    "plt.show()"
   ]
  },
  {
   "cell_type": "markdown",
   "id": "ordinary-danish",
   "metadata": {},
   "source": [
    "###### ‣Highest sold product line is Fashion accessories\n",
    "###### ‣Lowest sold product line is  Health and beauty"
   ]
  },
  {
   "cell_type": "code",
   "execution_count": null,
   "id": "rising-assistant",
   "metadata": {},
   "outputs": [],
   "source": []
  },
  {
   "cell_type": "markdown",
   "id": "numerous-necklace",
   "metadata": {},
   "source": [
    "#### • Most used payment channel"
   ]
  },
  {
   "cell_type": "code",
   "execution_count": 42,
   "id": "boxed-search",
   "metadata": {},
   "outputs": [
    {
     "data": {
      "image/png": "[encoded data removed]",
      "text/plain": [
       "<Figure size 576x432 with 1 Axes>"
      ]
     },
     "metadata": {
      "needs_background": "light"
     },
     "output_type": "display_data"
    }
   ],
   "source": [
    "plt.figure(figsize= (8,6))\n",
    "pc_plot = sb.countplot(y = \"Product line\" ,data=s_data, hue = \"Payment\")\n",
    "pc_plot.set_title(\"Frequency of payment channels used per product line\", fontdict = {\"fontsize\": 15, \"fontweight\": \"bold\"})\n",
    "plt.show()"
   ]
  },
  {
   "cell_type": "markdown",
   "id": "thorough-equation",
   "metadata": {},
   "source": [
    "###### ‣ Epay was mostly used for payment by customers for Health and beauty, Home and lifestyle and Fashion accessories\n",
    "###### ‣ Cash was mostly used for payment by customers for Electronic accessories and Sports and travel products\n",
    "###### ‣ Card payment was the most used payment channel only for Food and beverages"
   ]
  },
  {
   "cell_type": "code",
   "execution_count": null,
   "id": "suffering-filter",
   "metadata": {},
   "outputs": [],
   "source": []
  },
  {
   "cell_type": "markdown",
   "id": "southeast-begin",
   "metadata": {},
   "source": [
    "#### • Payment channel for each branch"
   ]
  },
  {
   "cell_type": "code",
   "execution_count": 43,
   "id": "pacific-panic",
   "metadata": {},
   "outputs": [
    {
     "data": {
      "image/png": "[encoded data removed]",
      "text/plain": [
       "<Figure size 576x432 with 1 Axes>"
      ]
     },
     "metadata": {
      "needs_background": "light"
     },
     "output_type": "display_data"
    }
   ],
   "source": [
    "plt.figure(figsize= (8,6))\n",
    "bpc_plot = sb.countplot(y = \"Payment\", data = s_data, hue = \"Branch\")\n",
    "bpc_plot.set_title(\"Payment channels used per Branch\", fontdict = {\"fontsize\": 17, \"fontweight\": \"bold\"})\n",
    "plt.show()"
   ]
  },
  {
   "cell_type": "markdown",
   "id": "upset-cleanup",
   "metadata": {},
   "source": [
    "###### ‣ Epay was most used for payments in Branch A (Lagos)\n",
    "###### ‣ Cash was most used for payments in Branch C (Port Harcourt)\n",
    "###### ‣ Card was most used for payments in Branch B (Abuja)"
   ]
  },
  {
   "cell_type": "code",
   "execution_count": null,
   "id": "fabulous-classroom",
   "metadata": {},
   "outputs": [],
   "source": []
  },
  {
   "cell_type": "markdown",
   "id": "together-pharmaceutical",
   "metadata": {},
   "source": [
    "#### • Branch with the lowest rating"
   ]
  },
  {
   "cell_type": "code",
   "execution_count": 44,
   "id": "subtle-death",
   "metadata": {},
   "outputs": [
    {
     "data": {
      "image/png": "[encoded data removed]",
      "text/plain": [
       "<Figure size 720x576 with 1 Axes>"
      ]
     },
     "metadata": {
      "needs_background": "light"
     },
     "output_type": "display_data"
    }
   ],
   "source": [
    "plt.figure(figsize= (10, 8))\n",
    "r_plot = sb.boxplot(x = \"Branch\", y = \"Rating\", hue = \"City\", data = s_data)\n",
    "r_plot.set_title(\"Overall branch rating\", fontdict = {\"fontsize\": 17, \"fontweight\": \"bold\"})\n",
    "plt.show()"
   ]
  },
  {
   "cell_type": "markdown",
   "id": "involved-teaching",
   "metadata": {},
   "source": [
    "###### ‣Abuja (Branch B), recorded the lowest rating"
   ]
  },
  {
   "cell_type": "code",
   "execution_count": null,
   "id": "coupled-beverage",
   "metadata": {},
   "outputs": [],
   "source": []
  },
  {
   "cell_type": "markdown",
   "id": "speaking-convert",
   "metadata": {},
   "source": [
    "#### • Product line purchased by gender"
   ]
  },
  {
   "cell_type": "code",
   "execution_count": 45,
   "id": "requested-marijuana",
   "metadata": {},
   "outputs": [
    {
     "data": {
      "image/png": "[encoded data removed]",
      "text/plain": [
       "<Figure size 1512.12x360 with 1 Axes>"
      ]
     },
     "metadata": {
      "needs_background": "light"
     },
     "output_type": "display_data"
    }
   ],
   "source": [
    "gp_plot = sb.catplot(x = \"Product line\", y = \"Quantity\", hue = \"Gender\", data = s_data, aspect = 4)\n",
    "plt.show()"
   ]
  },
  {
   "cell_type": "markdown",
   "id": "cardiac-pathology",
   "metadata": {},
   "source": [
    "###### ‣ Males purchased more Health and beauty products than females\n",
    "###### ‣ Females purchased more quantites of all other product lines"
   ]
  },
  {
   "cell_type": "markdown",
   "id": "prepared-argument",
   "metadata": {},
   "source": [
    "#### • Product line total sales by gender"
   ]
  },
  {
   "cell_type": "code",
   "execution_count": 46,
   "id": "former-window",
   "metadata": {
    "scrolled": true
   },
   "outputs": [
    {
     "data": {
      "image/png": "[encoded data removed]",
      "text/plain": [
       "<Figure size 1512.12x360 with 1 Axes>"
      ]
     },
     "metadata": {
      "needs_background": "light"
     },
     "output_type": "display_data"
    }
   ],
   "source": [
    "sb.catplot(x = \"Product line\", y = \"Total\", hue = \"Gender\", data = s_data, aspect = 4)\n",
    "plt.show()"
   ]
  },
  {
   "cell_type": "markdown",
   "id": "complicated-visiting",
   "metadata": {},
   "source": [
    "###### ‣ Information from this plot, is consistent with the plot on gender influenced purchases\n",
    "###### ‣ Total sales on Health and beauty products purchased by males was higher than females\n",
    "###### ‣ Total sales on other product lines purchased by females was higher than males"
   ]
  },
  {
   "cell_type": "code",
   "execution_count": null,
   "id": "caring-nursery",
   "metadata": {},
   "outputs": [],
   "source": []
  },
  {
   "cell_type": "markdown",
   "id": "sacred-playback",
   "metadata": {},
   "source": [
    "#### • Product line per unit price"
   ]
  },
  {
   "cell_type": "code",
   "execution_count": 47,
   "id": "sonic-musical",
   "metadata": {},
   "outputs": [
    {
     "data": {
      "image/png": "[encoded data removed]",
      "text/plain": [
       "<Figure size 1080x360 with 1 Axes>"
      ]
     },
     "metadata": {
      "needs_background": "light"
     },
     "output_type": "display_data"
    }
   ],
   "source": [
    "ppp_plot = sb.catplot(x = \"Product line\", y = \"Unit price\", data = s_data, kind= \"point\", aspect = 3)\n",
    "plt.show()"
   ]
  },
  {
   "cell_type": "markdown",
   "id": "religious-hours",
   "metadata": {},
   "source": [
    "###### ‣ The distribution of unit prices in Sports and travel has the highest values, followed closely, by Fashion accessories"
   ]
  },
  {
   "cell_type": "code",
   "execution_count": null,
   "id": "declared-cancellation",
   "metadata": {},
   "outputs": [],
   "source": []
  },
  {
   "cell_type": "markdown",
   "id": "still-sudan",
   "metadata": {},
   "source": [
    "#### • Product line per quantity"
   ]
  },
  {
   "cell_type": "code",
   "execution_count": 48,
   "id": "precious-collins",
   "metadata": {},
   "outputs": [
    {
     "data": {
      "image/png": "[encoded data removed]",
      "text/plain": [
       "<Figure size 1080x360 with 1 Axes>"
      ]
     },
     "metadata": {
      "needs_background": "light"
     },
     "output_type": "display_data"
    }
   ],
   "source": [
    "sb.catplot(x= \"Product line\", y= \"Quantity\", data = s_data, kind = \"point\", aspect = 3)\n",
    "plt.show()"
   ]
  },
  {
   "cell_type": "markdown",
   "id": "hairy-danger",
   "metadata": {},
   "source": [
    "###### ‣ As opposed to the information on unit prices of product lines, the distribution in the quantity purchased in Fashion accessories, includes the most frequently occurring lowest values"
   ]
  },
  {
   "cell_type": "markdown",
   "id": "buried-baseball",
   "metadata": {},
   "source": [
    "## STANDOUT SECTION"
   ]
  },
  {
   "cell_type": "markdown",
   "id": "delayed-basket",
   "metadata": {},
   "source": [
    "#### • Tax generated per product line"
   ]
  },
  {
   "cell_type": "code",
   "execution_count": 49,
   "id": "raised-truth",
   "metadata": {},
   "outputs": [],
   "source": [
    "p_grps = s_data.groupby(\"Product line\")\n",
    "tax_agg = p_grps.agg({\"Tax 5%\": \"sum\"})\n",
    "tax_agg = tax_agg.nlargest(6, \"Tax 5%\")"
   ]
  },
  {
   "cell_type": "code",
   "execution_count": 50,
   "id": "warming-providence",
   "metadata": {},
   "outputs": [
    {
     "data": {
      "image/png": "[encoded data removed]",
      "text/plain": [
       "<Figure size 648x504 with 1 Axes>"
      ]
     },
     "metadata": {
      "needs_background": "light"
     },
     "output_type": "display_data"
    }
   ],
   "source": [
    "plt.figure(figsize = (9,7))\n",
    "tplot = sb.barplot(x= \"Tax 5%\", y = tax_agg.index, data = tax_agg)\n",
    "tplot.set_title(\"Tax generated per product line\", fontdict = {\"fontsize\": 17, \"fontweight\": \"bold\"})\n",
    "plt.show()"
   ]
  },
  {
   "cell_type": "markdown",
   "id": "emerging-security",
   "metadata": {},
   "source": [
    "###### ‣ Food and beverages generated the highest tax\n",
    "###### ‣ Health and beauty generated the least tax"
   ]
  },
  {
   "cell_type": "code",
   "execution_count": null,
   "id": "coupled-behalf",
   "metadata": {},
   "outputs": [],
   "source": []
  },
  {
   "cell_type": "markdown",
   "id": "pleasant-andrews",
   "metadata": {},
   "source": [
    "#### • Monthly Quantity Sold per Branch"
   ]
  },
  {
   "cell_type": "code",
   "execution_count": 51,
   "id": "dressed-class",
   "metadata": {},
   "outputs": [],
   "source": [
    "lag_data = s_data[s_data[\"City\"] == \"Lagos\"]\n",
    "lag_grp = lag_data.groupby(\"Month\")\n",
    "agg_lag = lag_grp.agg({\"Total\": \"sum\"})\n",
    "agg_lag.rename(columns = {\"Total\": \"Lagos\"}, inplace = True)"
   ]
  },
  {
   "cell_type": "code",
   "execution_count": 52,
   "id": "applied-adelaide",
   "metadata": {},
   "outputs": [],
   "source": [
    "abj_data = s_data[s_data[\"City\"] == \"Abuja\"]\n",
    "abj_grp = abj_data.groupby(\"Month\")\n",
    "agg_abj = abj_grp.agg({\"Total\": \"sum\"})\n",
    "agg_abj.rename(columns = {\"Total\": \"Abuja\"}, inplace = True)"
   ]
  },
  {
   "cell_type": "code",
   "execution_count": 53,
   "id": "included-treasury",
   "metadata": {},
   "outputs": [],
   "source": [
    "ph_data = s_data[s_data[\"City\"] == \"Port Harcourt\"]\n",
    "ph_grp = ph_data.groupby(\"Month\")\n",
    "agg_ph = ph_grp.agg({\"Total\": \"sum\"})\n",
    "agg_ph.rename(columns = {\"Total\": \"Port Harcourt\"}, inplace = True)"
   ]
  },
  {
   "cell_type": "code",
   "execution_count": 54,
   "id": "guilty-christmas",
   "metadata": {},
   "outputs": [],
   "source": [
    "merge = pd.merge(agg_lag, agg_abj, on = \"Month\")\n",
    "merge_months = pd.merge(merge, agg_ph, on = \"Month\")\n",
    "merge_months.rename(index = {1:\"January\", 2:\"February\", 3:\"March\"}, inplace = True)\n",
    "merge_months = merge_months.reset_index()"
   ]
  },
  {
   "cell_type": "code",
   "execution_count": 55,
   "id": "ruled-occasion",
   "metadata": {},
   "outputs": [],
   "source": [
    "Q_months = pd.melt(merge_months, id_vars=[\"Month\"], var_name=\"City\", value_name=\"Total sales\")"
   ]
  },
  {
   "cell_type": "code",
   "execution_count": 56,
   "id": "obvious-colorado",
   "metadata": {},
   "outputs": [
    {
     "data": {
      "text/html": [
       "<div>\n",
       "<style scoped>\n",
       "    .dataframe tbody tr th:only-of-type {\n",
       "        vertical-align: middle;\n",
       "    }\n",
       "\n",
       "    .dataframe tbody tr th {\n",
       "        vertical-align: top;\n",
       "    }\n",
       "\n",
       "    .dataframe thead th {\n",
       "        text-align: right;\n",
       "    }\n",
       "</style>\n",
       "<table border=\"1\" class=\"dataframe\">\n",
       "  <thead>\n",
       "    <tr style=\"text-align: right;\">\n",
       "      <th></th>\n",
       "      <th>Month</th>\n",
       "      <th>City</th>\n",
       "      <th>Total sales</th>\n",
       "    </tr>\n",
       "  </thead>\n",
       "  <tbody>\n",
       "    <tr>\n",
       "      <th>0</th>\n",
       "      <td>January</td>\n",
       "      <td>Lagos</td>\n",
       "      <td>13925206.26</td>\n",
       "    </tr>\n",
       "    <tr>\n",
       "      <th>1</th>\n",
       "      <td>February</td>\n",
       "      <td>Lagos</td>\n",
       "      <td>10749643.38</td>\n",
       "    </tr>\n",
       "    <tr>\n",
       "      <th>2</th>\n",
       "      <td>March</td>\n",
       "      <td>Lagos</td>\n",
       "      <td>13557283.74</td>\n",
       "    </tr>\n",
       "    <tr>\n",
       "      <th>3</th>\n",
       "      <td>January</td>\n",
       "      <td>Abuja</td>\n",
       "      <td>13383381.06</td>\n",
       "    </tr>\n",
       "    <tr>\n",
       "      <th>4</th>\n",
       "      <td>February</td>\n",
       "      <td>Abuja</td>\n",
       "      <td>12392737.56</td>\n",
       "    </tr>\n",
       "    <tr>\n",
       "      <th>5</th>\n",
       "      <td>March</td>\n",
       "      <td>Abuja</td>\n",
       "      <td>12455043.30</td>\n",
       "    </tr>\n",
       "    <tr>\n",
       "      <th>6</th>\n",
       "      <td>January</td>\n",
       "      <td>Port Harcourt</td>\n",
       "      <td>14556485.16</td>\n",
       "    </tr>\n",
       "    <tr>\n",
       "      <th>7</th>\n",
       "      <td>February</td>\n",
       "      <td>Port Harcourt</td>\n",
       "      <td>11856593.70</td>\n",
       "    </tr>\n",
       "    <tr>\n",
       "      <th>8</th>\n",
       "      <td>March</td>\n",
       "      <td>Port Harcourt</td>\n",
       "      <td>13391655.48</td>\n",
       "    </tr>\n",
       "  </tbody>\n",
       "</table>\n",
       "</div>"
      ],
      "text/plain": [
       "      Month           City  Total sales\n",
       "0   January          Lagos  13925206.26\n",
       "1  February          Lagos  10749643.38\n",
       "2     March          Lagos  13557283.74\n",
       "3   January          Abuja  13383381.06\n",
       "4  February          Abuja  12392737.56\n",
       "5     March          Abuja  12455043.30\n",
       "6   January  Port Harcourt  14556485.16\n",
       "7  February  Port Harcourt  11856593.70\n",
       "8     March  Port Harcourt  13391655.48"
      ]
     },
     "execution_count": 56,
     "metadata": {},
     "output_type": "execute_result"
    }
   ],
   "source": [
    "Q_months"
   ]
  },
  {
   "cell_type": "code",
   "execution_count": 57,
   "id": "sonic-paris",
   "metadata": {},
   "outputs": [
    {
     "data": {
      "image/png": "[encoded data removed]",
      "text/plain": [
       "<Figure size 864x576 with 1 Axes>"
      ]
     },
     "metadata": {
      "needs_background": "light"
     },
     "output_type": "display_data"
    }
   ],
   "source": [
    "plt.figure(figsize = (12,8))\n",
    "month_plot = sb.barplot(x = \"Month\", y = \"Total sales\", hue= \"City\", data = Q_months)\n",
    "month_plot.set_title(\"Monthly Income Generated\", fontdict = {\"fontsize\": 17, \"fontweight\": \"bold\"})\n",
    "month_plot.set_xlabel(\"Month\", size = 15, color= \"r\")\n",
    "month_plot.set_ylabel(\"Total sales\", size = 15, color= \"r\")\n",
    "plt.show()"
   ]
  },
  {
   "cell_type": "markdown",
   "id": "annual-aurora",
   "metadata": {},
   "source": [
    "###### ‣ In January, Port harcourt branch, generated the most total income\n",
    "###### ‣ In February, Abuja branch, generated the most total income\n",
    "###### ‣ In January, Lagos branch, generated the most total income"
   ]
  },
  {
   "cell_type": "code",
   "execution_count": null,
   "id": "chronic-practice",
   "metadata": {},
   "outputs": [],
   "source": []
  }
 ],
 "metadata": {
  "kernelspec": {
   "display_name": "Python 3",
   "language": "python",
   "name": "python3"
  },
  "language_info": {
   "codemirror_mode": {
    "name": "ipython",
    "version": 3
   },
   "file_extension": ".py",
   "mimetype": "text/x-python",
   "name": "python",
   "nbconvert_exporter": "python",
   "pygments_lexer": "ipython3",
   "version": "3.9.4"
  }
 },
 "nbformat": 4,
 "nbformat_minor": 5
}
